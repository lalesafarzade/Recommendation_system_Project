{
  "nbformat": 4,
  "nbformat_minor": 0,
  "metadata": {
    "colab": {
      "name": "4.Recommender_engine_ml.ipynb",
      "provenance": [],
      "include_colab_link": true
    },
    "kernelspec": {
      "name": "python3",
      "display_name": "Python 3"
    },
    "language_info": {
      "name": "python"
    }
  },
  "cells": [
    {
      "cell_type": "markdown",
      "metadata": {
        "id": "view-in-github",
        "colab_type": "text"
      },
      "source": [
        "<a href=\"https://colab.research.google.com/github/lalesafarzade/Recommendation_system_Project/blob/lale/4_Recommender_engine_ml.ipynb\" target=\"_parent\"><img src=\"https://colab.research.google.com/assets/colab-badge.svg\" alt=\"Open In Colab\"/></a>"
      ]
    },
    {
      "cell_type": "code",
      "execution_count": 2,
      "metadata": {
        "id": "G63WRTqYzHzr",
        "colab": {
          "base_uri": "https://localhost:8080/"
        },
        "outputId": "de009191-7b11-4fe9-d27f-e0499093f538"
      },
      "outputs": [
        {
          "output_type": "stream",
          "name": "stdout",
          "text": [
            "Looking in indexes: https://pypi.org/simple, https://us-python.pkg.dev/colab-wheels/public/simple/\n",
            "Collecting scikit-surprise\n",
            "  Downloading scikit-surprise-1.1.1.tar.gz (11.8 MB)\n",
            "\u001b[K     |████████████████████████████████| 11.8 MB 6.8 MB/s \n",
            "\u001b[?25hRequirement already satisfied: joblib>=0.11 in /usr/local/lib/python3.7/dist-packages (from scikit-surprise) (1.1.0)\n",
            "Requirement already satisfied: numpy>=1.11.2 in /usr/local/lib/python3.7/dist-packages (from scikit-surprise) (1.21.6)\n",
            "Requirement already satisfied: scipy>=1.0.0 in /usr/local/lib/python3.7/dist-packages (from scikit-surprise) (1.4.1)\n",
            "Requirement already satisfied: six>=1.10.0 in /usr/local/lib/python3.7/dist-packages (from scikit-surprise) (1.15.0)\n",
            "Building wheels for collected packages: scikit-surprise\n",
            "  Building wheel for scikit-surprise (setup.py) ... \u001b[?25l\u001b[?25hdone\n",
            "  Created wheel for scikit-surprise: filename=scikit_surprise-1.1.1-cp37-cp37m-linux_x86_64.whl size=1633721 sha256=336629683962e30d84752c84c236f54d4806c1c4843b62392f29a8beff8ec36a\n",
            "  Stored in directory: /root/.cache/pip/wheels/76/44/74/b498c42be47b2406bd27994e16c5188e337c657025ab400c1c\n",
            "Successfully built scikit-surprise\n",
            "Installing collected packages: scikit-surprise\n",
            "Successfully installed scikit-surprise-1.1.1\n"
          ]
        }
      ],
      "source": [
        "! pip install scikit-surprise\n",
        "import numpy as np\n",
        "import pandas as pd\n",
        "from surprise import KNNBasic\n",
        "from surprise import Dataset\n",
        "from surprise import Reader,SVD\n",
        "from surprise.model_selection import cross_validate\n",
        "from collections import defaultdict\n",
        "from operator import itemgetter\n",
        "import heapq\n",
        "\n",
        "import os\n",
        "import csv"
      ]
    },
    {
      "cell_type": "code",
      "source": [
        "from google.colab import drive\n",
        "drive.mount('/content/drive')"
      ],
      "metadata": {
        "colab": {
          "base_uri": "https://localhost:8080/"
        },
        "id": "xViYToTvzYWU",
        "outputId": "715aa84b-974a-404d-d8a2-f32dc8f3a1bd"
      },
      "execution_count": 3,
      "outputs": [
        {
          "output_type": "stream",
          "name": "stdout",
          "text": [
            "Mounted at /content/drive\n"
          ]
        }
      ]
    },
    {
      "cell_type": "code",
      "source": [
        "movie_df=pd.read_csv('/content/drive/MyDrive/ml-latest-small (2)/ml-latest-small/movies.csv')\n",
        "rating_df=pd.read_csv('/content/drive/MyDrive/ml-latest-small (2)/ml-latest-small/ratings.csv')\n",
        "\n",
        "#movie:https://drive.google.com/file/d/1Zkw1uZkDFALG5c3_0-5fDWzGzrhAgw2_/view?usp=sharing\n",
        "#rating:https://drive.google.com/file/d/1vaXI_sajmcchGfEYw6amEZyvVlC9MzqJ/view?usp=sharing"
      ],
      "metadata": {
        "id": "vsRFAji-zfk1"
      },
      "execution_count": 19,
      "outputs": []
    },
    {
      "cell_type": "code",
      "source": [
        "test_subject = 611\n",
        "new_user={'userId':[test_subject,test_subject,test_subject,test_subject,test_subject],'movieId':[1,6,18,42,67],\"rating\":[5,4.5,3.5,5,7]}\n",
        "new_user=pd.DataFrame(new_user)\n",
        "df=pd.concat([rating_df,new_user])"
      ],
      "metadata": {
        "id": "G4BkpwQDziSK"
      },
      "execution_count": 20,
      "outputs": []
    },
    {
      "cell_type": "code",
      "source": [
        "rating_df.drop('timestamp',axis=1,inplace=True)"
      ],
      "metadata": {
        "id": "XeYxqlx3RaeE"
      },
      "execution_count": 21,
      "outputs": []
    },
    {
      "cell_type": "code",
      "source": [
        "movieID_to_name = {}\n",
        "with open('/content/drive/MyDrive/ml-latest-small (2)/ml-latest-small/movies.csv', newline='', encoding='ISO-8859-1') as csvfile:\n",
        "    movie_reader = csv.reader(csvfile)\n",
        "    next(movie_reader)\n",
        "    for row in movie_reader:\n",
        "        movieID = int(row[0])\n",
        "        movie_name = row[1]\n",
        "        movieID_to_name[movieID] = movie_name"
      ],
      "metadata": {
        "id": "lBoPJSUf7cVm"
      },
      "execution_count": 22,
      "outputs": []
    },
    {
      "cell_type": "code",
      "source": [
        "from surprise import SVD,Reader\n",
        "from surprise import Dataset\n",
        "from surprise.model_selection import cross_validate\n",
        "reader = Reader()\n",
        "data = Dataset.load_from_df(df[['userId', 'movieId', 'rating']], reader)\n",
        "algo = SVD()\n",
        "cross_validate(algo, data, measures=['RMSE', 'MAE'], cv=5, verbose=True)"
      ],
      "metadata": {
        "colab": {
          "base_uri": "https://localhost:8080/"
        },
        "id": "C3gcYcKs6Y3b",
        "outputId": "c0c4ef38-b8e2-4b7f-c858-ea3d9d40c22f"
      },
      "execution_count": 23,
      "outputs": [
        {
          "output_type": "stream",
          "name": "stdout",
          "text": [
            "Evaluating RMSE, MAE of algorithm SVD on 5 split(s).\n",
            "\n",
            "                  Fold 1  Fold 2  Fold 3  Fold 4  Fold 5  Mean    Std     \n",
            "RMSE (testset)    0.8772  0.8643  0.8768  0.8811  0.8657  0.8730  0.0067  \n",
            "MAE (testset)     0.6728  0.6646  0.6734  0.6760  0.6674  0.6708  0.0042  \n",
            "Fit time          5.55    5.37    5.42    5.25    5.34    5.38    0.10    \n",
            "Test time         0.29    0.27    0.16    0.26    0.31    0.26    0.05    \n"
          ]
        },
        {
          "output_type": "execute_result",
          "data": {
            "text/plain": [
              "{'fit_time': (5.546561241149902,\n",
              "  5.369401454925537,\n",
              "  5.420727014541626,\n",
              "  5.251547813415527,\n",
              "  5.3365318775177),\n",
              " 'test_mae': array([0.67276673, 0.66464727, 0.67338179, 0.67600547, 0.66735013]),\n",
              " 'test_rmse': array([0.87718619, 0.86425392, 0.87676162, 0.88107486, 0.8657091 ]),\n",
              " 'test_time': (0.28760695457458496,\n",
              "  0.2676258087158203,\n",
              "  0.16195154190063477,\n",
              "  0.26464104652404785,\n",
              "  0.3111400604248047)}"
            ]
          },
          "metadata": {},
          "execution_count": 23
        }
      ]
    },
    {
      "cell_type": "code",
      "source": [
        "trainset = data.build_full_trainset()\n",
        "similarity_matrix = algo.fit(trainset).compute_similarities()"
      ],
      "metadata": {
        "id": "sIwetUCy6wPr"
      },
      "execution_count": 24,
      "outputs": []
    },
    {
      "cell_type": "code",
      "source": [
        "test_subject_iid = trainset.to_inner_uid(test_subject)\n",
        "\n",
        "# Get the top K items we rated\n",
        "test_subject_ratings = trainset.ur[test_subject_iid]\n",
        "k_neighbors = heapq.nlargest(20, test_subject_ratings, key=lambda t: t[1])"
      ],
      "metadata": {
        "id": "K5yCwnhD6xw-"
      },
      "execution_count": 25,
      "outputs": []
    },
    {
      "cell_type": "code",
      "source": [
        "candidates = defaultdict(float)\n",
        "\n",
        "for itemID, rating in k_neighbors:\n",
        "    try:\n",
        "      similaritities = similarity_matrix[itemID]\n",
        "      for innerID, score in enumerate(similaritities):\n",
        "          candidates[innerID] += score * (rating / 5.0)\n",
        "    except:\n",
        "      continue"
      ],
      "metadata": {
        "id": "EPtwA6vS7MDi"
      },
      "execution_count": 26,
      "outputs": []
    },
    {
      "cell_type": "code",
      "source": [
        "\n",
        "def getMovieName(movieID):\n",
        "  if int(movieID) in movieID_to_name:\n",
        "    return movieID_to_name[int(movieID)]\n",
        "  else:\n",
        "      return \"\""
      ],
      "metadata": {
        "id": "DYkzy_wQ7SJo"
      },
      "execution_count": 27,
      "outputs": []
    },
    {
      "cell_type": "code",
      "source": [
        "watched = {}\n",
        "for itemID, rating in trainset.ur[test_subject_iid]:\n",
        "  watched[itemID] = 1\n",
        "\n",
        "# Add items to list of user's recommendations\n",
        "\n",
        "recommendations = []\n",
        "\n",
        "position = 0\n",
        "for itemID, rating_sum in sorted(candidates.items(), key=itemgetter(1), reverse=True):\n",
        "  if not itemID in watched:\n",
        "    recommendations.append(getMovieName(trainset.to_raw_iid(itemID)))\n",
        "    position += 1\n",
        "    if (position > 10): break \n",
        "\n",
        "for rec in recommendations:\n",
        "  print(\"Movie: \", rec)"
      ],
      "metadata": {
        "colab": {
          "base_uri": "https://localhost:8080/"
        },
        "id": "NviIjlha7b-P",
        "outputId": "36ee6bff-22d8-423a-c297-bf0e61bdb4d7"
      },
      "execution_count": 28,
      "outputs": [
        {
          "output_type": "stream",
          "name": "stdout",
          "text": [
            "Movie:  Bonnie and Clyde (1967)\n",
            "Movie:  Safe (1995)\n",
            "Movie:  Man Who Wasn't There, The (2001)\n",
            "Movie:  Legend of Rita, The (Stille nach dem SchuÃ, Die) (1999)\n",
            "Movie:  Scream 3 (2000)\n",
            "Movie:  Best in Show (2000)\n",
            "Movie:  Goodfellas (1990)\n",
            "Movie:  Groundhog Day (1993)\n",
            "Movie:  First Knight (1995)\n",
            "Movie:  Talladega Nights: The Ballad of Ricky Bobby (2006)\n",
            "Movie:  Dunston Checks In (1996)\n"
          ]
        }
      ]
    },
    {
      "cell_type": "code",
      "source": [
        ""
      ],
      "metadata": {
        "id": "zzG5Ld5R873I"
      },
      "execution_count": null,
      "outputs": []
    }
  ]
}