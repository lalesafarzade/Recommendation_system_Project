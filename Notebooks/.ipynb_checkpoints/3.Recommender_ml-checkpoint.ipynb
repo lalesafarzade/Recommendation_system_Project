{
 "cells": [
  {
   "cell_type": "markdown",
   "metadata": {
    "colab_type": "text",
    "id": "view-in-github"
   },
   "source": [
    "<a href=\"https://colab.research.google.com/github/lalesafarzade/Recommendation_system_Project/blob/lale/Notebooks/3.Recommender_ml.ipynb\" target=\"_parent\"><img src=\"https://colab.research.google.com/assets/colab-badge.svg\" alt=\"Open In Colab\"/></a>"
   ]
  },
  {
   "cell_type": "code",
   "execution_count": 1,
   "metadata": {
    "id": "g9YMFVUw81QR"
   },
   "outputs": [],
   "source": [
    "import numpy as np\n",
    "import pandas as pd"
   ]
  },
  {
   "cell_type": "code",
   "execution_count": 2,
   "metadata": {
    "colab": {
     "base_uri": "https://localhost:8080/"
    },
    "id": "E3W7-pdX869q",
    "outputId": "b20a250a-f1f9-4115-9401-424cbf662e01"
   },
   "outputs": [
    {
     "name": "stdout",
     "output_type": "stream",
     "text": [
      "Mounted at /content/drive\n"
     ]
    }
   ],
   "source": [
    "from google.colab import drive\n",
    "drive.mount('/content/drive')"
   ]
  },
  {
   "cell_type": "code",
   "execution_count": 10,
   "metadata": {
    "id": "l3jREGqe81QS"
   },
   "outputs": [],
   "source": [
    "movie_df=pd.read_csv('/content/drive/MyDrive/ml-latest-small (2)/ml-latest-small/movies.csv')\n",
    "rating_df=pd.read_csv('/content/drive/MyDrive/ml-latest-small (2)/ml-latest-small/ratings.csv')"
   ]
  },
  {
   "cell_type": "code",
   "execution_count": 13,
   "metadata": {
    "colab": {
     "base_uri": "https://localhost:8080/",
     "height": 206
    },
    "id": "6huNVKm49LVr",
    "outputId": "2086c519-ebd9-43eb-f6f1-e8dcbd782c42"
   },
   "outputs": [
    {
     "data": {
      "text/html": [
       "\n",
       "  <div id=\"df-ee7c25ab-e7a0-439e-8333-dd4f5e10ed44\">\n",
       "    <div class=\"colab-df-container\">\n",
       "      <div>\n",
       "<style scoped>\n",
       "    .dataframe tbody tr th:only-of-type {\n",
       "        vertical-align: middle;\n",
       "    }\n",
       "\n",
       "    .dataframe tbody tr th {\n",
       "        vertical-align: top;\n",
       "    }\n",
       "\n",
       "    .dataframe thead th {\n",
       "        text-align: right;\n",
       "    }\n",
       "</style>\n",
       "<table border=\"1\" class=\"dataframe\">\n",
       "  <thead>\n",
       "    <tr style=\"text-align: right;\">\n",
       "      <th></th>\n",
       "      <th>userId</th>\n",
       "      <th>movieId</th>\n",
       "      <th>rating</th>\n",
       "      <th>timestamp</th>\n",
       "      <th>title</th>\n",
       "      <th>genres</th>\n",
       "    </tr>\n",
       "  </thead>\n",
       "  <tbody>\n",
       "    <tr>\n",
       "      <th>0</th>\n",
       "      <td>1</td>\n",
       "      <td>1</td>\n",
       "      <td>4.0</td>\n",
       "      <td>964982703</td>\n",
       "      <td>Toy Story (1995)</td>\n",
       "      <td>Adventure|Animation|Children|Comedy|Fantasy</td>\n",
       "    </tr>\n",
       "    <tr>\n",
       "      <th>1</th>\n",
       "      <td>5</td>\n",
       "      <td>1</td>\n",
       "      <td>4.0</td>\n",
       "      <td>847434962</td>\n",
       "      <td>Toy Story (1995)</td>\n",
       "      <td>Adventure|Animation|Children|Comedy|Fantasy</td>\n",
       "    </tr>\n",
       "    <tr>\n",
       "      <th>2</th>\n",
       "      <td>7</td>\n",
       "      <td>1</td>\n",
       "      <td>4.5</td>\n",
       "      <td>1106635946</td>\n",
       "      <td>Toy Story (1995)</td>\n",
       "      <td>Adventure|Animation|Children|Comedy|Fantasy</td>\n",
       "    </tr>\n",
       "    <tr>\n",
       "      <th>3</th>\n",
       "      <td>15</td>\n",
       "      <td>1</td>\n",
       "      <td>2.5</td>\n",
       "      <td>1510577970</td>\n",
       "      <td>Toy Story (1995)</td>\n",
       "      <td>Adventure|Animation|Children|Comedy|Fantasy</td>\n",
       "    </tr>\n",
       "    <tr>\n",
       "      <th>4</th>\n",
       "      <td>17</td>\n",
       "      <td>1</td>\n",
       "      <td>4.5</td>\n",
       "      <td>1305696483</td>\n",
       "      <td>Toy Story (1995)</td>\n",
       "      <td>Adventure|Animation|Children|Comedy|Fantasy</td>\n",
       "    </tr>\n",
       "  </tbody>\n",
       "</table>\n",
       "</div>\n",
       "      <button class=\"colab-df-convert\" onclick=\"convertToInteractive('df-ee7c25ab-e7a0-439e-8333-dd4f5e10ed44')\"\n",
       "              title=\"Convert this dataframe to an interactive table.\"\n",
       "              style=\"display:none;\">\n",
       "        \n",
       "  <svg xmlns=\"http://www.w3.org/2000/svg\" height=\"24px\"viewBox=\"0 0 24 24\"\n",
       "       width=\"24px\">\n",
       "    <path d=\"M0 0h24v24H0V0z\" fill=\"none\"/>\n",
       "    <path d=\"M18.56 5.44l.94 2.06.94-2.06 2.06-.94-2.06-.94-.94-2.06-.94 2.06-2.06.94zm-11 1L8.5 8.5l.94-2.06 2.06-.94-2.06-.94L8.5 2.5l-.94 2.06-2.06.94zm10 10l.94 2.06.94-2.06 2.06-.94-2.06-.94-.94-2.06-.94 2.06-2.06.94z\"/><path d=\"M17.41 7.96l-1.37-1.37c-.4-.4-.92-.59-1.43-.59-.52 0-1.04.2-1.43.59L10.3 9.45l-7.72 7.72c-.78.78-.78 2.05 0 2.83L4 21.41c.39.39.9.59 1.41.59.51 0 1.02-.2 1.41-.59l7.78-7.78 2.81-2.81c.8-.78.8-2.07 0-2.86zM5.41 20L4 18.59l7.72-7.72 1.47 1.35L5.41 20z\"/>\n",
       "  </svg>\n",
       "      </button>\n",
       "      \n",
       "  <style>\n",
       "    .colab-df-container {\n",
       "      display:flex;\n",
       "      flex-wrap:wrap;\n",
       "      gap: 12px;\n",
       "    }\n",
       "\n",
       "    .colab-df-convert {\n",
       "      background-color: #E8F0FE;\n",
       "      border: none;\n",
       "      border-radius: 50%;\n",
       "      cursor: pointer;\n",
       "      display: none;\n",
       "      fill: #1967D2;\n",
       "      height: 32px;\n",
       "      padding: 0 0 0 0;\n",
       "      width: 32px;\n",
       "    }\n",
       "\n",
       "    .colab-df-convert:hover {\n",
       "      background-color: #E2EBFA;\n",
       "      box-shadow: 0px 1px 2px rgba(60, 64, 67, 0.3), 0px 1px 3px 1px rgba(60, 64, 67, 0.15);\n",
       "      fill: #174EA6;\n",
       "    }\n",
       "\n",
       "    [theme=dark] .colab-df-convert {\n",
       "      background-color: #3B4455;\n",
       "      fill: #D2E3FC;\n",
       "    }\n",
       "\n",
       "    [theme=dark] .colab-df-convert:hover {\n",
       "      background-color: #434B5C;\n",
       "      box-shadow: 0px 1px 3px 1px rgba(0, 0, 0, 0.15);\n",
       "      filter: drop-shadow(0px 1px 2px rgba(0, 0, 0, 0.3));\n",
       "      fill: #FFFFFF;\n",
       "    }\n",
       "  </style>\n",
       "\n",
       "      <script>\n",
       "        const buttonEl =\n",
       "          document.querySelector('#df-ee7c25ab-e7a0-439e-8333-dd4f5e10ed44 button.colab-df-convert');\n",
       "        buttonEl.style.display =\n",
       "          google.colab.kernel.accessAllowed ? 'block' : 'none';\n",
       "\n",
       "        async function convertToInteractive(key) {\n",
       "          const element = document.querySelector('#df-ee7c25ab-e7a0-439e-8333-dd4f5e10ed44');\n",
       "          const dataTable =\n",
       "            await google.colab.kernel.invokeFunction('convertToInteractive',\n",
       "                                                     [key], {});\n",
       "          if (!dataTable) return;\n",
       "\n",
       "          const docLinkHtml = 'Like what you see? Visit the ' +\n",
       "            '<a target=\"_blank\" href=https://colab.research.google.com/notebooks/data_table.ipynb>data table notebook</a>'\n",
       "            + ' to learn more about interactive tables.';\n",
       "          element.innerHTML = '';\n",
       "          dataTable['output_type'] = 'display_data';\n",
       "          await google.colab.output.renderOutput(dataTable, element);\n",
       "          const docLink = document.createElement('div');\n",
       "          docLink.innerHTML = docLinkHtml;\n",
       "          element.appendChild(docLink);\n",
       "        }\n",
       "      </script>\n",
       "    </div>\n",
       "  </div>\n",
       "  "
      ],
      "text/plain": [
       "   userId  movieId  rating   timestamp             title  \\\n",
       "0       1        1     4.0   964982703  Toy Story (1995)   \n",
       "1       5        1     4.0   847434962  Toy Story (1995)   \n",
       "2       7        1     4.5  1106635946  Toy Story (1995)   \n",
       "3      15        1     2.5  1510577970  Toy Story (1995)   \n",
       "4      17        1     4.5  1305696483  Toy Story (1995)   \n",
       "\n",
       "                                        genres  \n",
       "0  Adventure|Animation|Children|Comedy|Fantasy  \n",
       "1  Adventure|Animation|Children|Comedy|Fantasy  \n",
       "2  Adventure|Animation|Children|Comedy|Fantasy  \n",
       "3  Adventure|Animation|Children|Comedy|Fantasy  \n",
       "4  Adventure|Animation|Children|Comedy|Fantasy  "
      ]
     },
     "execution_count": 13,
     "metadata": {},
     "output_type": "execute_result"
    }
   ],
   "source": [
    "df = pd.merge(rating_df,movie_df,on='movieId')\n",
    "df.head()"
   ]
  },
  {
   "cell_type": "code",
   "execution_count": 55,
   "metadata": {
    "id": "B0iSSUBycNlq"
   },
   "outputs": [],
   "source": [
    "from sklearn.model_selection import train_test_split\n",
    "\n",
    "train_data, test_data = train_test_split(df, test_size=0.2)"
   ]
  },
  {
   "cell_type": "markdown",
   "metadata": {
    "id": "bCg5tXk3j_aS"
   },
   "source": [
    "## Memory-Based Collaborative Filtering\""
   ]
  },
  {
   "cell_type": "code",
   "execution_count": 57,
   "metadata": {
    "id": "dgLWfsjVb4LJ"
   },
   "outputs": [],
   "source": [
    "user_movie_train = train_data.pivot('userId','movieId','rating').fillna(0).to_numpy()\n",
    "user_movie_test = test_data.pivot('userId','movieId','rating').fillna(0).to_numpy()"
   ]
  },
  {
   "cell_type": "code",
   "execution_count": 58,
   "metadata": {
    "id": "Ram6tdD-cgfN"
   },
   "outputs": [],
   "source": [
    "from sklearn.metrics.pairwise import pairwise_distances\n",
    "from sklearn.metrics.pairwise import cosine_similarity\n",
    "\n",
    "user_similarity = cosine_similarity(user_movie_train)\n",
    "item_similarity = cosine_similarity(user_movie_train.T)"
   ]
  },
  {
   "cell_type": "code",
   "execution_count": 59,
   "metadata": {
    "id": "bcYimxV8cy2p"
   },
   "outputs": [],
   "source": [
    "def predict(ratings, similarity, type='user'):\n",
    "    if type == 'user':\n",
    "        mean_user_rating = ratings.mean(axis=1)\n",
    "        #You use np.newaxis so that mean_user_rating has same format as ratings\n",
    "        ratings_diff = (ratings - mean_user_rating[:, np.newaxis]) \n",
    "        pred = mean_user_rating[:, np.newaxis] + similarity.dot(ratings_diff) / np.array([np.abs(similarity).sum(axis=1)]).T\n",
    "    elif type == 'item':\n",
    "        pred = ratings.dot(similarity) / np.array([np.abs(similarity).sum(axis=1)])     \n",
    "    return pred"
   ]
  },
  {
   "cell_type": "code",
   "execution_count": 60,
   "metadata": {
    "id": "_DSdaWEDc0Ha"
   },
   "outputs": [],
   "source": [
    "item_prediction = predict(user_movie_train, item_similarity, type='item')\n",
    "user_prediction = predict(user_movie_train, user_similarity, type='user')"
   ]
  },
  {
   "cell_type": "code",
   "execution_count": 61,
   "metadata": {
    "id": "wcqZl3vQdPMr"
   },
   "outputs": [],
   "source": [
    "### Evaluation"
   ]
  },
  {
   "cell_type": "code",
   "execution_count": 62,
   "metadata": {
    "id": "2-Fh1tCqdU2V"
   },
   "outputs": [],
   "source": [
    "from sklearn.metrics import mean_squared_error\n",
    "from math import sqrt\n",
    "def rmse(prediction, ground_truth):\n",
    "    prediction = prediction[ground_truth.nonzero()].flatten() \n",
    "    ground_truth = ground_truth[ground_truth.nonzero()].flatten()\n",
    "    return sqrt(mean_squared_error(prediction, ground_truth))"
   ]
  },
  {
   "cell_type": "code",
   "execution_count": 63,
   "metadata": {
    "colab": {
     "base_uri": "https://localhost:8080/"
    },
    "id": "_BfOiFDQdaqS",
    "outputId": "08f54996-d8a7-47ac-d36f-4548f44d3f6c"
   },
   "outputs": [
    {
     "name": "stdout",
     "output_type": "stream",
     "text": [
      "User-based CF RMSE: 3.4565950667796423\n",
      "Item-based CF RMSE: 3.4034303919655624\n"
     ]
    }
   ],
   "source": [
    "print('User-based CF RMSE: ' + str(rmse(user_prediction, user_movie_test)))\n",
    "print('Item-based CF RMSE: ' + str(rmse(item_prediction, user_movie_test)))"
   ]
  },
  {
   "cell_type": "markdown",
   "metadata": {
    "id": "zg1BRaAEgtvE"
   },
   "source": [
    "## Model-based Collaborative Filtering"
   ]
  },
  {
   "cell_type": "code",
   "execution_count": 66,
   "metadata": {
    "colab": {
     "base_uri": "https://localhost:8080/"
    },
    "id": "raA3HQwkgpDq",
    "outputId": "be06e843-89e0-480d-a956-49d0b4cac38c"
   },
   "outputs": [
    {
     "name": "stdout",
     "output_type": "stream",
     "text": [
      "Num. of Users: 610\n",
      "Num of Movies: 9724\n",
      "The sparsity level of MovieLens100K is 98.3%\n"
     ]
    }
   ],
   "source": [
    "n_users = df.userId.nunique()\n",
    "n_items = df.movieId.nunique()\n",
    "\n",
    "print('Num. of Users: '+ str(n_users))\n",
    "print('Num of Movies: '+str(n_items))\n",
    "sparsity=round(1.0-len(df)/float(n_users*n_items),3)\n",
    "print('The sparsity level of MovieLens100K is ' +  str(sparsity*100) + '%')"
   ]
  },
  {
   "cell_type": "markdown",
   "metadata": {
    "id": "5jAmkchlhIyg"
   },
   "source": [
    "### SVD"
   ]
  },
  {
   "cell_type": "code",
   "execution_count": 67,
   "metadata": {
    "colab": {
     "base_uri": "https://localhost:8080/"
    },
    "id": "E3TugYVJhFy7",
    "outputId": "6c227490-8e5c-4a12-fb2f-72a9c95b4669"
   },
   "outputs": [
    {
     "name": "stdout",
     "output_type": "stream",
     "text": [
      "User-based CF MSE: 3.452770037018036\n"
     ]
    }
   ],
   "source": [
    "import scipy.sparse as sp\n",
    "from scipy.sparse.linalg import svds\n",
    "\n",
    "#get SVD components from train matrix. Choose k.\n",
    "u, s, vt = svds(user_movie_train, k = 4)\n",
    "s_diag_matrix=np.diag(s)\n",
    "X_pred = np.dot(np.dot(u, s_diag_matrix), vt)\n",
    "print('User-based CF MSE: ' + str(rmse(X_pred, user_movie_test)))"
   ]
  },
  {
   "cell_type": "code",
   "execution_count": 68,
   "metadata": {
    "id": "kKXEpn31hY1c"
   },
   "outputs": [],
   "source": [
    "## tuning"
   ]
  },
  {
   "cell_type": "code",
   "execution_count": 72,
   "metadata": {
    "id": "jCJcOfqVoD4y"
   },
   "outputs": [],
   "source": [
    "#! pip install surprise"
   ]
  },
  {
   "cell_type": "code",
   "execution_count": 74,
   "metadata": {
    "id": "xgo-K4GAoecg"
   },
   "outputs": [],
   "source": [
    "from surprise import SVD,Reader\n",
    "from surprise import Dataset\n",
    "from surprise.model_selection import cross_validate"
   ]
  },
  {
   "cell_type": "code",
   "execution_count": 78,
   "metadata": {
    "colab": {
     "base_uri": "https://localhost:8080/"
    },
    "id": "r3JD6Tdgn9lL",
    "outputId": "c93cee2e-1491-4e8c-ca03-86c4ca8cc17a"
   },
   "outputs": [
    {
     "name": "stdout",
     "output_type": "stream",
     "text": [
      "Evaluating RMSE, MAE of algorithm SVD on 5 split(s).\n",
      "\n",
      "                  Fold 1  Fold 2  Fold 3  Fold 4  Fold 5  Mean    Std     \n",
      "RMSE (testset)    0.8749  0.8751  0.8720  0.8722  0.8751  0.8738  0.0014  \n",
      "MAE (testset)     0.6727  0.6719  0.6704  0.6706  0.6717  0.6715  0.0009  \n",
      "Fit time          6.37    5.29    5.29    5.31    5.26    5.51    0.44    \n",
      "Test time         0.19    0.23    0.15    0.16    0.23    0.19    0.04    \n"
     ]
    },
    {
     "data": {
      "text/plain": [
       "{'fit_time': (6.3749213218688965,\n",
       "  5.294899940490723,\n",
       "  5.291177272796631,\n",
       "  5.3099095821380615,\n",
       "  5.257055282592773),\n",
       " 'test_mae': array([0.67273166, 0.67194358, 0.67040916, 0.67057792, 0.67169805]),\n",
       " 'test_rmse': array([0.8748705 , 0.87505521, 0.87196345, 0.87219543, 0.87508716]),\n",
       " 'test_time': (0.19024300575256348,\n",
       "  0.23436641693115234,\n",
       "  0.1490797996520996,\n",
       "  0.1562786102294922,\n",
       "  0.2329702377319336)}"
      ]
     },
     "execution_count": 78,
     "metadata": {},
     "output_type": "execute_result"
    }
   ],
   "source": [
    "reader = Reader()\n",
    "data = Dataset.load_from_df(df[['userId', 'movieId', 'rating']], reader)\n",
    "algo = SVD()\n",
    "cross_validate(algo, data, measures=['RMSE', 'MAE'], cv=5, verbose=True)"
   ]
  },
  {
   "cell_type": "code",
   "execution_count": 79,
   "metadata": {
    "colab": {
     "base_uri": "https://localhost:8080/"
    },
    "id": "lYlapdc_p4h3",
    "outputId": "02c3a83a-1394-4458-dd5e-cb24225955a1"
   },
   "outputs": [
    {
     "data": {
      "text/plain": [
       "<surprise.prediction_algorithms.matrix_factorization.SVD at 0x7fe578329c90>"
      ]
     },
     "execution_count": 79,
     "metadata": {},
     "output_type": "execute_result"
    }
   ],
   "source": [
    "trainset = data.build_full_trainset()\n",
    "algo.fit(trainset)"
   ]
  },
  {
   "cell_type": "code",
   "execution_count": 82,
   "metadata": {
    "colab": {
     "base_uri": "https://localhost:8080/",
     "height": 1000
    },
    "id": "K6rqr0Q-qPxo",
    "outputId": "d6aad997-55d1-4b4c-991a-0f1811f581ab"
   },
   "outputs": [
    {
     "data": {
      "text/html": [
       "\n",
       "  <div id=\"df-7f5e61f8-c622-4e71-93e6-7ad5bfe2ebcd\">\n",
       "    <div class=\"colab-df-container\">\n",
       "      <div>\n",
       "<style scoped>\n",
       "    .dataframe tbody tr th:only-of-type {\n",
       "        vertical-align: middle;\n",
       "    }\n",
       "\n",
       "    .dataframe tbody tr th {\n",
       "        vertical-align: top;\n",
       "    }\n",
       "\n",
       "    .dataframe thead th {\n",
       "        text-align: right;\n",
       "    }\n",
       "</style>\n",
       "<table border=\"1\" class=\"dataframe\">\n",
       "  <thead>\n",
       "    <tr style=\"text-align: right;\">\n",
       "      <th></th>\n",
       "      <th>userId</th>\n",
       "      <th>movieId</th>\n",
       "      <th>rating</th>\n",
       "      <th>timestamp</th>\n",
       "      <th>title</th>\n",
       "      <th>genres</th>\n",
       "    </tr>\n",
       "  </thead>\n",
       "  <tbody>\n",
       "    <tr>\n",
       "      <th>372</th>\n",
       "      <td>8</td>\n",
       "      <td>47</td>\n",
       "      <td>4.0</td>\n",
       "      <td>839463546</td>\n",
       "      <td>Seven (a.k.a. Se7en) (1995)</td>\n",
       "      <td>Mystery|Thriller</td>\n",
       "    </tr>\n",
       "    <tr>\n",
       "      <th>576</th>\n",
       "      <td>8</td>\n",
       "      <td>50</td>\n",
       "      <td>5.0</td>\n",
       "      <td>839463644</td>\n",
       "      <td>Usual Suspects, The (1995)</td>\n",
       "      <td>Crime|Mystery|Thriller</td>\n",
       "    </tr>\n",
       "    <tr>\n",
       "      <th>857</th>\n",
       "      <td>8</td>\n",
       "      <td>110</td>\n",
       "      <td>3.0</td>\n",
       "      <td>839463527</td>\n",
       "      <td>Braveheart (1995)</td>\n",
       "      <td>Action|Drama|War</td>\n",
       "    </tr>\n",
       "    <tr>\n",
       "      <th>1367</th>\n",
       "      <td>8</td>\n",
       "      <td>231</td>\n",
       "      <td>4.0</td>\n",
       "      <td>839463470</td>\n",
       "      <td>Dumb &amp; Dumber (Dumb and Dumber) (1994)</td>\n",
       "      <td>Adventure|Comedy</td>\n",
       "    </tr>\n",
       "    <tr>\n",
       "      <th>1500</th>\n",
       "      <td>8</td>\n",
       "      <td>235</td>\n",
       "      <td>3.0</td>\n",
       "      <td>839464076</td>\n",
       "      <td>Ed Wood (1994)</td>\n",
       "      <td>Comedy|Drama</td>\n",
       "    </tr>\n",
       "    <tr>\n",
       "      <th>1823</th>\n",
       "      <td>8</td>\n",
       "      <td>296</td>\n",
       "      <td>4.0</td>\n",
       "      <td>839463422</td>\n",
       "      <td>Pulp Fiction (1994)</td>\n",
       "      <td>Comedy|Crime|Drama|Thriller</td>\n",
       "    </tr>\n",
       "    <tr>\n",
       "      <th>2429</th>\n",
       "      <td>8</td>\n",
       "      <td>356</td>\n",
       "      <td>3.0</td>\n",
       "      <td>839463527</td>\n",
       "      <td>Forrest Gump (1994)</td>\n",
       "      <td>Comedy|Drama|Romance|War</td>\n",
       "    </tr>\n",
       "    <tr>\n",
       "      <th>2792</th>\n",
       "      <td>8</td>\n",
       "      <td>367</td>\n",
       "      <td>3.0</td>\n",
       "      <td>839463564</td>\n",
       "      <td>Mask, The (1994)</td>\n",
       "      <td>Action|Comedy|Crime|Fantasy</td>\n",
       "    </tr>\n",
       "    <tr>\n",
       "      <th>3002</th>\n",
       "      <td>8</td>\n",
       "      <td>457</td>\n",
       "      <td>3.0</td>\n",
       "      <td>839463489</td>\n",
       "      <td>Fugitive, The (1993)</td>\n",
       "      <td>Thriller</td>\n",
       "    </tr>\n",
       "    <tr>\n",
       "      <th>3191</th>\n",
       "      <td>8</td>\n",
       "      <td>480</td>\n",
       "      <td>4.0</td>\n",
       "      <td>839463527</td>\n",
       "      <td>Jurassic Park (1993)</td>\n",
       "      <td>Action|Adventure|Sci-Fi|Thriller</td>\n",
       "    </tr>\n",
       "    <tr>\n",
       "      <th>3428</th>\n",
       "      <td>8</td>\n",
       "      <td>500</td>\n",
       "      <td>2.0</td>\n",
       "      <td>839463624</td>\n",
       "      <td>Mrs. Doubtfire (1993)</td>\n",
       "      <td>Comedy|Drama</td>\n",
       "    </tr>\n",
       "    <tr>\n",
       "      <th>3574</th>\n",
       "      <td>8</td>\n",
       "      <td>527</td>\n",
       "      <td>5.0</td>\n",
       "      <td>839463728</td>\n",
       "      <td>Schindler's List (1993)</td>\n",
       "      <td>Drama|War</td>\n",
       "    </tr>\n",
       "    <tr>\n",
       "      <th>3960</th>\n",
       "      <td>8</td>\n",
       "      <td>590</td>\n",
       "      <td>5.0</td>\n",
       "      <td>839463422</td>\n",
       "      <td>Dances with Wolves (1990)</td>\n",
       "      <td>Adventure|Drama|Western</td>\n",
       "    </tr>\n",
       "    <tr>\n",
       "      <th>4125</th>\n",
       "      <td>8</td>\n",
       "      <td>592</td>\n",
       "      <td>3.0</td>\n",
       "      <td>839463422</td>\n",
       "      <td>Batman (1989)</td>\n",
       "      <td>Action|Crime|Thriller</td>\n",
       "    </tr>\n",
       "    <tr>\n",
       "      <th>4314</th>\n",
       "      <td>8</td>\n",
       "      <td>593</td>\n",
       "      <td>4.0</td>\n",
       "      <td>839463470</td>\n",
       "      <td>Silence of the Lambs, The (1991)</td>\n",
       "      <td>Crime|Horror|Thriller</td>\n",
       "    </tr>\n",
       "    <tr>\n",
       "      <th>16299</th>\n",
       "      <td>8</td>\n",
       "      <td>318</td>\n",
       "      <td>5.0</td>\n",
       "      <td>839463489</td>\n",
       "      <td>Shawshank Redemption, The (1994)</td>\n",
       "      <td>Crime|Drama</td>\n",
       "    </tr>\n",
       "    <tr>\n",
       "      <th>18859</th>\n",
       "      <td>8</td>\n",
       "      <td>21</td>\n",
       "      <td>4.0</td>\n",
       "      <td>839463564</td>\n",
       "      <td>Get Shorty (1995)</td>\n",
       "      <td>Comedy|Crime|Thriller</td>\n",
       "    </tr>\n",
       "    <tr>\n",
       "      <th>18947</th>\n",
       "      <td>8</td>\n",
       "      <td>32</td>\n",
       "      <td>3.0</td>\n",
       "      <td>839463624</td>\n",
       "      <td>Twelve Monkeys (a.k.a. 12 Monkeys) (1995)</td>\n",
       "      <td>Mystery|Sci-Fi|Thriller</td>\n",
       "    </tr>\n",
       "    <tr>\n",
       "      <th>19527</th>\n",
       "      <td>8</td>\n",
       "      <td>357</td>\n",
       "      <td>5.0</td>\n",
       "      <td>839463767</td>\n",
       "      <td>Four Weddings and a Funeral (1994)</td>\n",
       "      <td>Comedy|Romance</td>\n",
       "    </tr>\n",
       "    <tr>\n",
       "      <th>19835</th>\n",
       "      <td>8</td>\n",
       "      <td>539</td>\n",
       "      <td>3.0</td>\n",
       "      <td>839463728</td>\n",
       "      <td>Sleepless in Seattle (1993)</td>\n",
       "      <td>Comedy|Drama|Romance</td>\n",
       "    </tr>\n",
       "    <tr>\n",
       "      <th>25038</th>\n",
       "      <td>8</td>\n",
       "      <td>34</td>\n",
       "      <td>5.0</td>\n",
       "      <td>839463546</td>\n",
       "      <td>Babe (1995)</td>\n",
       "      <td>Children|Drama</td>\n",
       "    </tr>\n",
       "    <tr>\n",
       "      <th>25232</th>\n",
       "      <td>8</td>\n",
       "      <td>39</td>\n",
       "      <td>3.0</td>\n",
       "      <td>839463644</td>\n",
       "      <td>Clueless (1995)</td>\n",
       "      <td>Comedy|Romance</td>\n",
       "    </tr>\n",
       "    <tr>\n",
       "      <th>25338</th>\n",
       "      <td>8</td>\n",
       "      <td>150</td>\n",
       "      <td>4.0</td>\n",
       "      <td>839463422</td>\n",
       "      <td>Apollo 13 (1995)</td>\n",
       "      <td>Adventure|Drama|IMAX</td>\n",
       "    </tr>\n",
       "    <tr>\n",
       "      <th>25538</th>\n",
       "      <td>8</td>\n",
       "      <td>153</td>\n",
       "      <td>2.0</td>\n",
       "      <td>839463451</td>\n",
       "      <td>Batman Forever (1995)</td>\n",
       "      <td>Action|Adventure|Comedy|Crime</td>\n",
       "    </tr>\n",
       "    <tr>\n",
       "      <th>25675</th>\n",
       "      <td>8</td>\n",
       "      <td>253</td>\n",
       "      <td>5.0</td>\n",
       "      <td>839463509</td>\n",
       "      <td>Interview with the Vampire: The Vampire Chroni...</td>\n",
       "      <td>Drama|Horror</td>\n",
       "    </tr>\n",
       "    <tr>\n",
       "      <th>26150</th>\n",
       "      <td>8</td>\n",
       "      <td>364</td>\n",
       "      <td>5.0</td>\n",
       "      <td>839463546</td>\n",
       "      <td>Lion King, The (1994)</td>\n",
       "      <td>Adventure|Animation|Children|Drama|Musical|IMAX</td>\n",
       "    </tr>\n",
       "    <tr>\n",
       "      <th>26323</th>\n",
       "      <td>8</td>\n",
       "      <td>380</td>\n",
       "      <td>5.0</td>\n",
       "      <td>839463422</td>\n",
       "      <td>True Lies (1994)</td>\n",
       "      <td>Action|Adventure|Comedy|Romance|Thriller</td>\n",
       "    </tr>\n",
       "    <tr>\n",
       "      <th>27017</th>\n",
       "      <td>8</td>\n",
       "      <td>597</td>\n",
       "      <td>3.0</td>\n",
       "      <td>839463728</td>\n",
       "      <td>Pretty Woman (1990)</td>\n",
       "      <td>Comedy|Romance</td>\n",
       "    </tr>\n",
       "    <tr>\n",
       "      <th>27151</th>\n",
       "      <td>8</td>\n",
       "      <td>2</td>\n",
       "      <td>4.0</td>\n",
       "      <td>839463806</td>\n",
       "      <td>Jumanji (1995)</td>\n",
       "      <td>Adventure|Children|Fantasy</td>\n",
       "    </tr>\n",
       "    <tr>\n",
       "      <th>27379</th>\n",
       "      <td>8</td>\n",
       "      <td>10</td>\n",
       "      <td>2.0</td>\n",
       "      <td>839463509</td>\n",
       "      <td>GoldenEye (1995)</td>\n",
       "      <td>Action|Adventure|Thriller</td>\n",
       "    </tr>\n",
       "    <tr>\n",
       "      <th>27511</th>\n",
       "      <td>8</td>\n",
       "      <td>11</td>\n",
       "      <td>4.0</td>\n",
       "      <td>839463806</td>\n",
       "      <td>American President, The (1995)</td>\n",
       "      <td>Comedy|Drama|Romance</td>\n",
       "    </tr>\n",
       "    <tr>\n",
       "      <th>28620</th>\n",
       "      <td>8</td>\n",
       "      <td>141</td>\n",
       "      <td>3.0</td>\n",
       "      <td>839464076</td>\n",
       "      <td>Birdcage, The (1996)</td>\n",
       "      <td>Comedy</td>\n",
       "    </tr>\n",
       "    <tr>\n",
       "      <th>29302</th>\n",
       "      <td>8</td>\n",
       "      <td>185</td>\n",
       "      <td>5.0</td>\n",
       "      <td>839463509</td>\n",
       "      <td>Net, The (1995)</td>\n",
       "      <td>Action|Crime|Thriller</td>\n",
       "    </tr>\n",
       "    <tr>\n",
       "      <th>29414</th>\n",
       "      <td>8</td>\n",
       "      <td>186</td>\n",
       "      <td>4.0</td>\n",
       "      <td>839463856</td>\n",
       "      <td>Nine Months (1995)</td>\n",
       "      <td>Comedy|Romance</td>\n",
       "    </tr>\n",
       "    <tr>\n",
       "      <th>29585</th>\n",
       "      <td>8</td>\n",
       "      <td>208</td>\n",
       "      <td>3.0</td>\n",
       "      <td>839463509</td>\n",
       "      <td>Waterworld (1995)</td>\n",
       "      <td>Action|Adventure|Sci-Fi</td>\n",
       "    </tr>\n",
       "    <tr>\n",
       "      <th>29864</th>\n",
       "      <td>8</td>\n",
       "      <td>236</td>\n",
       "      <td>3.0</td>\n",
       "      <td>839463767</td>\n",
       "      <td>French Kiss (1995)</td>\n",
       "      <td>Action|Comedy|Romance</td>\n",
       "    </tr>\n",
       "    <tr>\n",
       "      <th>29979</th>\n",
       "      <td>8</td>\n",
       "      <td>252</td>\n",
       "      <td>3.0</td>\n",
       "      <td>839463856</td>\n",
       "      <td>I.Q. (1994)</td>\n",
       "      <td>Comedy|Romance</td>\n",
       "    </tr>\n",
       "    <tr>\n",
       "      <th>30240</th>\n",
       "      <td>8</td>\n",
       "      <td>282</td>\n",
       "      <td>3.0</td>\n",
       "      <td>839463767</td>\n",
       "      <td>Nell (1994)</td>\n",
       "      <td>Drama</td>\n",
       "    </tr>\n",
       "    <tr>\n",
       "      <th>30383</th>\n",
       "      <td>8</td>\n",
       "      <td>292</td>\n",
       "      <td>3.0</td>\n",
       "      <td>839463489</td>\n",
       "      <td>Outbreak (1995)</td>\n",
       "      <td>Action|Drama|Sci-Fi|Thriller</td>\n",
       "    </tr>\n",
       "    <tr>\n",
       "      <th>30724</th>\n",
       "      <td>8</td>\n",
       "      <td>317</td>\n",
       "      <td>3.0</td>\n",
       "      <td>839463644</td>\n",
       "      <td>Santa Clause, The (1994)</td>\n",
       "      <td>Comedy|Drama|Fantasy</td>\n",
       "    </tr>\n",
       "    <tr>\n",
       "      <th>31043</th>\n",
       "      <td>8</td>\n",
       "      <td>339</td>\n",
       "      <td>3.0</td>\n",
       "      <td>839463509</td>\n",
       "      <td>While You Were Sleeping (1995)</td>\n",
       "      <td>Comedy|Romance</td>\n",
       "    </tr>\n",
       "    <tr>\n",
       "      <th>31479</th>\n",
       "      <td>8</td>\n",
       "      <td>377</td>\n",
       "      <td>4.0</td>\n",
       "      <td>839463644</td>\n",
       "      <td>Speed (1994)</td>\n",
       "      <td>Action|Romance|Thriller</td>\n",
       "    </tr>\n",
       "    <tr>\n",
       "      <th>31783</th>\n",
       "      <td>8</td>\n",
       "      <td>432</td>\n",
       "      <td>1.0</td>\n",
       "      <td>839463702</td>\n",
       "      <td>City Slickers II: The Legend of Curly's Gold (...</td>\n",
       "      <td>Adventure|Comedy|Western</td>\n",
       "    </tr>\n",
       "    <tr>\n",
       "      <th>32011</th>\n",
       "      <td>8</td>\n",
       "      <td>440</td>\n",
       "      <td>3.0</td>\n",
       "      <td>839463728</td>\n",
       "      <td>Dave (1993)</td>\n",
       "      <td>Comedy|Romance</td>\n",
       "    </tr>\n",
       "    <tr>\n",
       "      <th>32099</th>\n",
       "      <td>8</td>\n",
       "      <td>454</td>\n",
       "      <td>4.0</td>\n",
       "      <td>839463546</td>\n",
       "      <td>Firm, The (1993)</td>\n",
       "      <td>Drama|Thriller</td>\n",
       "    </tr>\n",
       "    <tr>\n",
       "      <th>32867</th>\n",
       "      <td>8</td>\n",
       "      <td>587</td>\n",
       "      <td>3.0</td>\n",
       "      <td>839463702</td>\n",
       "      <td>Ghost (1990)</td>\n",
       "      <td>Comedy|Drama|Fantasy|Romance|Thriller</td>\n",
       "    </tr>\n",
       "    <tr>\n",
       "      <th>39810</th>\n",
       "      <td>8</td>\n",
       "      <td>586</td>\n",
       "      <td>3.0</td>\n",
       "      <td>839463702</td>\n",
       "      <td>Home Alone (1990)</td>\n",
       "      <td>Children|Comedy</td>\n",
       "    </tr>\n",
       "  </tbody>\n",
       "</table>\n",
       "</div>\n",
       "      <button class=\"colab-df-convert\" onclick=\"convertToInteractive('df-7f5e61f8-c622-4e71-93e6-7ad5bfe2ebcd')\"\n",
       "              title=\"Convert this dataframe to an interactive table.\"\n",
       "              style=\"display:none;\">\n",
       "        \n",
       "  <svg xmlns=\"http://www.w3.org/2000/svg\" height=\"24px\"viewBox=\"0 0 24 24\"\n",
       "       width=\"24px\">\n",
       "    <path d=\"M0 0h24v24H0V0z\" fill=\"none\"/>\n",
       "    <path d=\"M18.56 5.44l.94 2.06.94-2.06 2.06-.94-2.06-.94-.94-2.06-.94 2.06-2.06.94zm-11 1L8.5 8.5l.94-2.06 2.06-.94-2.06-.94L8.5 2.5l-.94 2.06-2.06.94zm10 10l.94 2.06.94-2.06 2.06-.94-2.06-.94-.94-2.06-.94 2.06-2.06.94z\"/><path d=\"M17.41 7.96l-1.37-1.37c-.4-.4-.92-.59-1.43-.59-.52 0-1.04.2-1.43.59L10.3 9.45l-7.72 7.72c-.78.78-.78 2.05 0 2.83L4 21.41c.39.39.9.59 1.41.59.51 0 1.02-.2 1.41-.59l7.78-7.78 2.81-2.81c.8-.78.8-2.07 0-2.86zM5.41 20L4 18.59l7.72-7.72 1.47 1.35L5.41 20z\"/>\n",
       "  </svg>\n",
       "      </button>\n",
       "      \n",
       "  <style>\n",
       "    .colab-df-container {\n",
       "      display:flex;\n",
       "      flex-wrap:wrap;\n",
       "      gap: 12px;\n",
       "    }\n",
       "\n",
       "    .colab-df-convert {\n",
       "      background-color: #E8F0FE;\n",
       "      border: none;\n",
       "      border-radius: 50%;\n",
       "      cursor: pointer;\n",
       "      display: none;\n",
       "      fill: #1967D2;\n",
       "      height: 32px;\n",
       "      padding: 0 0 0 0;\n",
       "      width: 32px;\n",
       "    }\n",
       "\n",
       "    .colab-df-convert:hover {\n",
       "      background-color: #E2EBFA;\n",
       "      box-shadow: 0px 1px 2px rgba(60, 64, 67, 0.3), 0px 1px 3px 1px rgba(60, 64, 67, 0.15);\n",
       "      fill: #174EA6;\n",
       "    }\n",
       "\n",
       "    [theme=dark] .colab-df-convert {\n",
       "      background-color: #3B4455;\n",
       "      fill: #D2E3FC;\n",
       "    }\n",
       "\n",
       "    [theme=dark] .colab-df-convert:hover {\n",
       "      background-color: #434B5C;\n",
       "      box-shadow: 0px 1px 3px 1px rgba(0, 0, 0, 0.15);\n",
       "      filter: drop-shadow(0px 1px 2px rgba(0, 0, 0, 0.3));\n",
       "      fill: #FFFFFF;\n",
       "    }\n",
       "  </style>\n",
       "\n",
       "      <script>\n",
       "        const buttonEl =\n",
       "          document.querySelector('#df-7f5e61f8-c622-4e71-93e6-7ad5bfe2ebcd button.colab-df-convert');\n",
       "        buttonEl.style.display =\n",
       "          google.colab.kernel.accessAllowed ? 'block' : 'none';\n",
       "\n",
       "        async function convertToInteractive(key) {\n",
       "          const element = document.querySelector('#df-7f5e61f8-c622-4e71-93e6-7ad5bfe2ebcd');\n",
       "          const dataTable =\n",
       "            await google.colab.kernel.invokeFunction('convertToInteractive',\n",
       "                                                     [key], {});\n",
       "          if (!dataTable) return;\n",
       "\n",
       "          const docLinkHtml = 'Like what you see? Visit the ' +\n",
       "            '<a target=\"_blank\" href=https://colab.research.google.com/notebooks/data_table.ipynb>data table notebook</a>'\n",
       "            + ' to learn more about interactive tables.';\n",
       "          element.innerHTML = '';\n",
       "          dataTable['output_type'] = 'display_data';\n",
       "          await google.colab.output.renderOutput(dataTable, element);\n",
       "          const docLink = document.createElement('div');\n",
       "          docLink.innerHTML = docLinkHtml;\n",
       "          element.appendChild(docLink);\n",
       "        }\n",
       "      </script>\n",
       "    </div>\n",
       "  </div>\n",
       "  "
      ],
      "text/plain": [
       "       userId  movieId  rating  timestamp  \\\n",
       "372         8       47     4.0  839463546   \n",
       "576         8       50     5.0  839463644   \n",
       "857         8      110     3.0  839463527   \n",
       "1367        8      231     4.0  839463470   \n",
       "1500        8      235     3.0  839464076   \n",
       "1823        8      296     4.0  839463422   \n",
       "2429        8      356     3.0  839463527   \n",
       "2792        8      367     3.0  839463564   \n",
       "3002        8      457     3.0  839463489   \n",
       "3191        8      480     4.0  839463527   \n",
       "3428        8      500     2.0  839463624   \n",
       "3574        8      527     5.0  839463728   \n",
       "3960        8      590     5.0  839463422   \n",
       "4125        8      592     3.0  839463422   \n",
       "4314        8      593     4.0  839463470   \n",
       "16299       8      318     5.0  839463489   \n",
       "18859       8       21     4.0  839463564   \n",
       "18947       8       32     3.0  839463624   \n",
       "19527       8      357     5.0  839463767   \n",
       "19835       8      539     3.0  839463728   \n",
       "25038       8       34     5.0  839463546   \n",
       "25232       8       39     3.0  839463644   \n",
       "25338       8      150     4.0  839463422   \n",
       "25538       8      153     2.0  839463451   \n",
       "25675       8      253     5.0  839463509   \n",
       "26150       8      364     5.0  839463546   \n",
       "26323       8      380     5.0  839463422   \n",
       "27017       8      597     3.0  839463728   \n",
       "27151       8        2     4.0  839463806   \n",
       "27379       8       10     2.0  839463509   \n",
       "27511       8       11     4.0  839463806   \n",
       "28620       8      141     3.0  839464076   \n",
       "29302       8      185     5.0  839463509   \n",
       "29414       8      186     4.0  839463856   \n",
       "29585       8      208     3.0  839463509   \n",
       "29864       8      236     3.0  839463767   \n",
       "29979       8      252     3.0  839463856   \n",
       "30240       8      282     3.0  839463767   \n",
       "30383       8      292     3.0  839463489   \n",
       "30724       8      317     3.0  839463644   \n",
       "31043       8      339     3.0  839463509   \n",
       "31479       8      377     4.0  839463644   \n",
       "31783       8      432     1.0  839463702   \n",
       "32011       8      440     3.0  839463728   \n",
       "32099       8      454     4.0  839463546   \n",
       "32867       8      587     3.0  839463702   \n",
       "39810       8      586     3.0  839463702   \n",
       "\n",
       "                                                   title  \\\n",
       "372                          Seven (a.k.a. Se7en) (1995)   \n",
       "576                           Usual Suspects, The (1995)   \n",
       "857                                    Braveheart (1995)   \n",
       "1367              Dumb & Dumber (Dumb and Dumber) (1994)   \n",
       "1500                                      Ed Wood (1994)   \n",
       "1823                                 Pulp Fiction (1994)   \n",
       "2429                                 Forrest Gump (1994)   \n",
       "2792                                    Mask, The (1994)   \n",
       "3002                                Fugitive, The (1993)   \n",
       "3191                                Jurassic Park (1993)   \n",
       "3428                               Mrs. Doubtfire (1993)   \n",
       "3574                             Schindler's List (1993)   \n",
       "3960                           Dances with Wolves (1990)   \n",
       "4125                                       Batman (1989)   \n",
       "4314                    Silence of the Lambs, The (1991)   \n",
       "16299                   Shawshank Redemption, The (1994)   \n",
       "18859                                  Get Shorty (1995)   \n",
       "18947          Twelve Monkeys (a.k.a. 12 Monkeys) (1995)   \n",
       "19527                 Four Weddings and a Funeral (1994)   \n",
       "19835                        Sleepless in Seattle (1993)   \n",
       "25038                                        Babe (1995)   \n",
       "25232                                    Clueless (1995)   \n",
       "25338                                   Apollo 13 (1995)   \n",
       "25538                              Batman Forever (1995)   \n",
       "25675  Interview with the Vampire: The Vampire Chroni...   \n",
       "26150                              Lion King, The (1994)   \n",
       "26323                                   True Lies (1994)   \n",
       "27017                                Pretty Woman (1990)   \n",
       "27151                                     Jumanji (1995)   \n",
       "27379                                   GoldenEye (1995)   \n",
       "27511                     American President, The (1995)   \n",
       "28620                               Birdcage, The (1996)   \n",
       "29302                                    Net, The (1995)   \n",
       "29414                                 Nine Months (1995)   \n",
       "29585                                  Waterworld (1995)   \n",
       "29864                                 French Kiss (1995)   \n",
       "29979                                        I.Q. (1994)   \n",
       "30240                                        Nell (1994)   \n",
       "30383                                    Outbreak (1995)   \n",
       "30724                           Santa Clause, The (1994)   \n",
       "31043                     While You Were Sleeping (1995)   \n",
       "31479                                       Speed (1994)   \n",
       "31783  City Slickers II: The Legend of Curly's Gold (...   \n",
       "32011                                        Dave (1993)   \n",
       "32099                                   Firm, The (1993)   \n",
       "32867                                       Ghost (1990)   \n",
       "39810                                  Home Alone (1990)   \n",
       "\n",
       "                                                genres  \n",
       "372                                   Mystery|Thriller  \n",
       "576                             Crime|Mystery|Thriller  \n",
       "857                                   Action|Drama|War  \n",
       "1367                                  Adventure|Comedy  \n",
       "1500                                      Comedy|Drama  \n",
       "1823                       Comedy|Crime|Drama|Thriller  \n",
       "2429                          Comedy|Drama|Romance|War  \n",
       "2792                       Action|Comedy|Crime|Fantasy  \n",
       "3002                                          Thriller  \n",
       "3191                  Action|Adventure|Sci-Fi|Thriller  \n",
       "3428                                      Comedy|Drama  \n",
       "3574                                         Drama|War  \n",
       "3960                           Adventure|Drama|Western  \n",
       "4125                             Action|Crime|Thriller  \n",
       "4314                             Crime|Horror|Thriller  \n",
       "16299                                      Crime|Drama  \n",
       "18859                            Comedy|Crime|Thriller  \n",
       "18947                          Mystery|Sci-Fi|Thriller  \n",
       "19527                                   Comedy|Romance  \n",
       "19835                             Comedy|Drama|Romance  \n",
       "25038                                   Children|Drama  \n",
       "25232                                   Comedy|Romance  \n",
       "25338                             Adventure|Drama|IMAX  \n",
       "25538                    Action|Adventure|Comedy|Crime  \n",
       "25675                                     Drama|Horror  \n",
       "26150  Adventure|Animation|Children|Drama|Musical|IMAX  \n",
       "26323         Action|Adventure|Comedy|Romance|Thriller  \n",
       "27017                                   Comedy|Romance  \n",
       "27151                       Adventure|Children|Fantasy  \n",
       "27379                        Action|Adventure|Thriller  \n",
       "27511                             Comedy|Drama|Romance  \n",
       "28620                                           Comedy  \n",
       "29302                            Action|Crime|Thriller  \n",
       "29414                                   Comedy|Romance  \n",
       "29585                          Action|Adventure|Sci-Fi  \n",
       "29864                            Action|Comedy|Romance  \n",
       "29979                                   Comedy|Romance  \n",
       "30240                                            Drama  \n",
       "30383                     Action|Drama|Sci-Fi|Thriller  \n",
       "30724                             Comedy|Drama|Fantasy  \n",
       "31043                                   Comedy|Romance  \n",
       "31479                          Action|Romance|Thriller  \n",
       "31783                         Adventure|Comedy|Western  \n",
       "32011                                   Comedy|Romance  \n",
       "32099                                   Drama|Thriller  \n",
       "32867            Comedy|Drama|Fantasy|Romance|Thriller  \n",
       "39810                                  Children|Comedy  "
      ]
     },
     "execution_count": 82,
     "metadata": {},
     "output_type": "execute_result"
    }
   ],
   "source": [
    "df[df['userId'] == 8]"
   ]
  },
  {
   "cell_type": "code",
   "execution_count": 83,
   "metadata": {
    "colab": {
     "base_uri": "https://localhost:8080/"
    },
    "id": "rmhALcq9qFST",
    "outputId": "04fb3a43-d977-4dd3-eb1f-613af1b1b9be"
   },
   "outputs": [
    {
     "data": {
      "text/plain": [
       "Prediction(uid=8, iid=47, r_ui=4, est=4.090455217725302, details={'was_impossible': False})"
      ]
     },
     "execution_count": 83,
     "metadata": {},
     "output_type": "execute_result"
    }
   ],
   "source": [
    "algo.predict(8,47,4)"
   ]
  },
  {
   "cell_type": "code",
   "execution_count": 85,
   "metadata": {
    "colab": {
     "base_uri": "https://localhost:8080/"
    },
    "id": "AN6HMuT1qpQw",
    "outputId": "8f1ec0f2-3a5a-438c-f3e8-26b56c51e4f0"
   },
   "outputs": [
    {
     "data": {
      "text/plain": [
       "Prediction(uid=8, iid=441, r_ui=4, est=3.756563112397142, details={'was_impossible': False})"
      ]
     },
     "execution_count": 85,
     "metadata": {},
     "output_type": "execute_result"
    }
   ],
   "source": [
    "algo.predict(8,441,4)"
   ]
  },
  {
   "cell_type": "code",
   "execution_count": 87,
   "metadata": {
    "colab": {
     "base_uri": "https://localhost:8080/"
    },
    "id": "X2qad8DLrflm",
    "outputId": "f0e0136d-17ec-41ff-9ead-83667b93fc45"
   },
   "outputs": [
    {
     "name": "stdout",
     "output_type": "stream",
     "text": [
      ">> Starting dump\n",
      ">> Dump done\n",
      "/content/drive/MyDrive/ml_model\n"
     ]
    }
   ],
   "source": [
    "## SAVING TRAINED MODEL\n",
    "from surprise import dump\n",
    "import os\n",
    "path = F\"/content/drive/MyDrive/ml_model\"\n",
    "print (\">> Starting dump\")\n",
    "# Dump algorithm and reload it.\n",
    "file_name = os.path.expanduser(path)\n",
    "dump.dump(file_name, algo=algo)\n",
    "print (\">> Dump done\")\n",
    "print(path)"
   ]
  },
  {
   "cell_type": "code",
   "execution_count": 88,
   "metadata": {
    "id": "2ECIvWzvuQ1c"
   },
   "outputs": [],
   "source": [
    "def load_model(model_filename):\n",
    "    print (\">> Loading dump\")\n",
    "    from surprise import dump\n",
    "    import os\n",
    "    file_name = os.path.expanduser(model_filename)\n",
    "    _, loaded_model = dump.load(file_name)\n",
    "    print (\">> Loaded dump\")\n",
    "    return loaded_model"
   ]
  },
  {
   "cell_type": "code",
   "execution_count": 89,
   "metadata": {
    "colab": {
     "base_uri": "https://localhost:8080/"
    },
    "id": "P1BcqMqpu0Bk",
    "outputId": "21fdbce6-0ba8-4d9a-ee08-493f568eb71b"
   },
   "outputs": [
    {
     "name": "stdout",
     "output_type": "stream",
     "text": [
      ">> Loading dump\n",
      ">> Loaded dump\n",
      "user: 8          item: 441        r_ui = None   est = 3.76   {'was_impossible': False}\n",
      "{'details': {'was_impossible': False},\n",
      " 'iid': 441,\n",
      " 'item': 441,\n",
      " 'rating': 3.756563112397142,\n",
      " 'true': None,\n",
      " 'uid': 8,\n",
      " 'user': 8}\n",
      "\n",
      "\n",
      "\n",
      "{'user': 8, 'item': 441, 'rating': 3.756563112397142, 'details': {'was_impossible': False}, 'uid': 8, 'iid': 441, 'true': None}\n"
     ]
    }
   ],
   "source": [
    "# predicitng\n",
    "from pprint import pprint as pp\n",
    "model_filename = path\n",
    "def itemRating(user, item):\n",
    "    uid = str(user)\n",
    "    iid = str(item) \n",
    "    loaded_model = load_model(model_filename)\n",
    "    prediction = loaded_model.predict(user, item, verbose=True)\n",
    "    rating = prediction.est\n",
    "    details = prediction.details\n",
    "    uid = prediction.uid\n",
    "    iid = prediction.iid\n",
    "    true = prediction.r_ui\n",
    "    ret = {\n",
    "        'user': user, \n",
    "        'item': item, \n",
    "        'rating': rating, \n",
    "        'details': details,\n",
    "        'uid': uid,\n",
    "        'iid': iid,\n",
    "        'true': true\n",
    "        }\n",
    "    pp (ret)\n",
    "    print ('\\n\\n')\n",
    "    return ret\n",
    "print(itemRating(user = 8, item = 441))"
   ]
  },
  {
   "cell_type": "code",
   "execution_count": null,
   "metadata": {
    "id": "v2KLz25FvcK1"
   },
   "outputs": [],
   "source": []
  }
 ],
 "metadata": {
  "colab": {
   "include_colab_link": true,
   "name": "3.Recommender_ml.ipynb",
   "provenance": []
  },
  "interpreter": {
   "hash": "fa93e806ebe966252dafa24a1ebcd8709a0c2913e2b314fa57e83455f79cb2c2"
  },
  "kernelspec": {
   "display_name": "Python 3",
   "language": "python",
   "name": "python3"
  },
  "language_info": {
   "codemirror_mode": {
    "name": "ipython",
    "version": 3
   },
   "file_extension": ".py",
   "mimetype": "text/x-python",
   "name": "python",
   "nbconvert_exporter": "python",
   "pygments_lexer": "ipython3",
   "version": "3.7.6"
  }
 },
 "nbformat": 4,
 "nbformat_minor": 1
}
