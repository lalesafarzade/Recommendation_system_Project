{
 "cells": [
  {
   "cell_type": "markdown",
   "metadata": {
    "colab_type": "text",
    "id": "view-in-github"
   },
   "source": [
    "<a href=\"https://colab.research.google.com/github/lalesafarzade/Recommendation_system_Project/blob/lale/Notebooks/4.Recommender_engine_ml.ipynb\" target=\"_parent\"><img src=\"https://colab.research.google.com/assets/colab-badge.svg\" alt=\"Open In Colab\"/></a>"
   ]
  },
  {
   "cell_type": "code",
   "execution_count": 1,
   "metadata": {
    "id": "G63WRTqYzHzr"
   },
   "outputs": [],
   "source": [
    "#! pip install scikit-surprise\n",
    "import numpy as np\n",
    "import pandas as pd\n",
    "from surprise import KNNBasic\n",
    "from surprise import Dataset\n",
    "from surprise import Reader,SVD\n",
    "from surprise.model_selection import cross_validate\n",
    "from collections import defaultdict\n",
    "from operator import itemgetter\n",
    "import heapq\n",
    "\n",
    "import os\n",
    "import csv"
   ]
  },
  {
   "cell_type": "code",
   "execution_count": 2,
   "metadata": {
    "colab": {
     "base_uri": "https://localhost:8080/"
    },
    "id": "xViYToTvzYWU",
    "outputId": "85791c74-9cb6-4aa4-8d0c-680fdfa2ba5b"
   },
   "outputs": [
    {
     "name": "stdout",
     "output_type": "stream",
     "text": [
      "Drive already mounted at /content/drive; to attempt to forcibly remount, call drive.mount(\"/content/drive\", force_remount=True).\n"
     ]
    }
   ],
   "source": [
    "from google.colab import drive\n",
    "drive.mount('/content/drive')"
   ]
  },
  {
   "cell_type": "code",
   "execution_count": 3,
   "metadata": {
    "id": "vsRFAji-zfk1"
   },
   "outputs": [],
   "source": [
    "movie_df=pd.read_csv('/content/drive/MyDrive/ml-latest-small (2)/ml-latest-small/movies.csv')\n",
    "rating_df=pd.read_csv('/content/drive/MyDrive/ml-latest-small (2)/ml-latest-small/ratings.csv')\n",
    "\n",
    "#movie:https://drive.google.com/file/d/1Zkw1uZkDFALG5c3_0-5fDWzGzrhAgw2_/view?usp=sharing\n",
    "#rating:https://drive.google.com/file/d/1vaXI_sajmcchGfEYw6amEZyvVlC9MzqJ/view?usp=sharing"
   ]
  },
  {
   "cell_type": "code",
   "execution_count": 4,
   "metadata": {
    "id": "G4BkpwQDziSK"
   },
   "outputs": [],
   "source": [
    "test_subject = 611\n",
    "new_user={'userId':[test_subject,test_subject,test_subject,test_subject,test_subject],'movieId':[1,6,18,42,67],\"rating\":[5,4.5,3.5,5,7]}\n",
    "new_user=pd.DataFrame(new_user)\n",
    "df=pd.concat([rating_df,new_user])"
   ]
  },
  {
   "cell_type": "code",
   "execution_count": 5,
   "metadata": {
    "id": "XeYxqlx3RaeE"
   },
   "outputs": [],
   "source": [
    "rating_df.drop('timestamp',axis=1,inplace=True)"
   ]
  },
  {
   "cell_type": "code",
   "execution_count": 6,
   "metadata": {
    "id": "lBoPJSUf7cVm"
   },
   "outputs": [],
   "source": [
    "movieID_to_name = {}\n",
    "with open('/content/drive/MyDrive/ml-latest-small (2)/ml-latest-small/movies.csv', newline='', encoding='ISO-8859-1') as csvfile:\n",
    "    movie_reader = csv.reader(csvfile)\n",
    "    next(movie_reader)\n",
    "    for row in movie_reader:\n",
    "        movieID = int(row[0])\n",
    "        movie_name = row[1]\n",
    "        movieID_to_name[movieID] = movie_name"
   ]
  },
  {
   "cell_type": "code",
   "execution_count": 7,
   "metadata": {
    "colab": {
     "base_uri": "https://localhost:8080/"
    },
    "id": "C3gcYcKs6Y3b",
    "outputId": "bef78b91-a14c-48d6-d59e-e2479d64200e"
   },
   "outputs": [
    {
     "name": "stdout",
     "output_type": "stream",
     "text": [
      "Evaluating RMSE, MAE of algorithm SVD on 5 split(s).\n",
      "\n",
      "                  Fold 1  Fold 2  Fold 3  Fold 4  Fold 5  Mean    Std     \n",
      "RMSE (testset)    0.8701  0.8735  0.8790  0.8785  0.8610  0.8724  0.0066  \n",
      "MAE (testset)     0.6661  0.6714  0.6741  0.6747  0.6647  0.6702  0.0041  \n",
      "Fit time          5.29    5.29    5.18    5.17    5.21    5.23    0.05    \n",
      "Test time         0.25    0.15    0.16    0.20    0.24    0.20    0.04    \n"
     ]
    },
    {
     "data": {
      "text/plain": [
       "{'fit_time': (5.294833183288574,\n",
       "  5.285574674606323,\n",
       "  5.177272796630859,\n",
       "  5.167855978012085,\n",
       "  5.210354328155518),\n",
       " 'test_mae': array([0.66611003, 0.67139272, 0.67407481, 0.67468089, 0.66469853]),\n",
       " 'test_rmse': array([0.87014263, 0.87353784, 0.87896971, 0.87853011, 0.86102149]),\n",
       " 'test_time': (0.24844670295715332,\n",
       "  0.1519458293914795,\n",
       "  0.15593171119689941,\n",
       "  0.19646406173706055,\n",
       "  0.24484491348266602)}"
      ]
     },
     "execution_count": 7,
     "metadata": {},
     "output_type": "execute_result"
    }
   ],
   "source": [
    "from surprise import SVD,Reader\n",
    "from surprise import Dataset\n",
    "from surprise.model_selection import cross_validate\n",
    "reader = Reader()\n",
    "data = Dataset.load_from_df(df[['userId', 'movieId', 'rating']], reader)\n",
    "algo = SVD()\n",
    "cross_validate(algo, data, measures=['RMSE', 'MAE'], cv=5, verbose=True)"
   ]
  },
  {
   "cell_type": "code",
   "execution_count": 8,
   "metadata": {
    "id": "sIwetUCy6wPr"
   },
   "outputs": [],
   "source": [
    "trainset = data.build_full_trainset()\n",
    "similarity_matrix = algo.fit(trainset).compute_similarities()"
   ]
  },
  {
   "cell_type": "code",
   "execution_count": 9,
   "metadata": {
    "id": "K5yCwnhD6xw-"
   },
   "outputs": [],
   "source": [
    "test_subject_iid = trainset.to_inner_uid(test_subject)\n",
    "\n",
    "# Get the top K items we rated\n",
    "test_subject_ratings = trainset.ur[test_subject_iid]\n",
    "k_neighbors = heapq.nlargest(20, test_subject_ratings, key=lambda t: t[1])"
   ]
  },
  {
   "cell_type": "code",
   "execution_count": 10,
   "metadata": {
    "id": "EPtwA6vS7MDi"
   },
   "outputs": [],
   "source": [
    "candidates = defaultdict(float)\n",
    "\n",
    "for itemID, rating in k_neighbors:\n",
    "    try:\n",
    "      similaritities = similarity_matrix[itemID]\n",
    "      for innerID, score in enumerate(similaritities):\n",
    "          candidates[innerID] += score * (rating / 5.0)\n",
    "    except:\n",
    "      continue"
   ]
  },
  {
   "cell_type": "code",
   "execution_count": 11,
   "metadata": {
    "id": "DYkzy_wQ7SJo"
   },
   "outputs": [],
   "source": [
    "# Utility we'll use later.\n",
    "def getMovieName(movieID):\n",
    "  if int(movieID) in movieID_to_name:\n",
    "    return movieID_to_name[int(movieID)]\n",
    "  else:\n",
    "      return \"\""
   ]
  },
  {
   "cell_type": "code",
   "execution_count": 12,
   "metadata": {
    "colab": {
     "base_uri": "https://localhost:8080/"
    },
    "id": "NviIjlha7b-P",
    "outputId": "1ec3136c-d6e3-4fdf-efa7-81b95be58902"
   },
   "outputs": [
    {
     "name": "stdout",
     "output_type": "stream",
     "text": [
      "Movie:  Bonnie and Clyde (1967)\n",
      "Movie:  Safe (1995)\n",
      "Movie:  Man Who Wasn't There, The (2001)\n",
      "Movie:  Legend of Rita, The (Stille nach dem SchuÃ, Die) (1999)\n",
      "Movie:  Scream 3 (2000)\n",
      "Movie:  Best in Show (2000)\n",
      "Movie:  Goodfellas (1990)\n",
      "Movie:  Groundhog Day (1993)\n",
      "Movie:  First Knight (1995)\n",
      "Movie:  Talladega Nights: The Ballad of Ricky Bobby (2006)\n",
      "Movie:  Dunston Checks In (1996)\n"
     ]
    }
   ],
   "source": [
    "# Build a dictionary of movies the user has watched\n",
    "watched = {}\n",
    "for itemID, rating in trainset.ur[test_subject_iid]:\n",
    "  watched[itemID] = 1\n",
    "\n",
    "# Add items to list of user's recommendations\n",
    "# If they are similar to their favorite movies,\n",
    "# AND have not already been watched.\n",
    "recommendations = []\n",
    "\n",
    "position = 0\n",
    "for itemID, rating_sum in sorted(candidates.items(), key=itemgetter(1), reverse=True):\n",
    "  if not itemID in watched:\n",
    "    recommendations.append(getMovieName(trainset.to_raw_iid(itemID)))\n",
    "    position += 1\n",
    "    if (position > 10): break # We only want top 10\n",
    "\n",
    "for rec in recommendations:\n",
    "  print(\"Movie: \", rec)"
   ]
  },
  {
   "cell_type": "code",
   "execution_count": null,
   "metadata": {
    "id": "zzG5Ld5R873I"
   },
   "outputs": [],
   "source": []
  }
 ],
 "metadata": {
  "colab": {
   "authorship_tag": "ABX9TyPI2JlgCKnHbCbzJMkq0fd5",
   "include_colab_link": true,
   "name": "Untitled14.ipynb",
   "provenance": []
  },
  "kernelspec": {
   "display_name": "Python 3",
   "language": "python",
   "name": "python3"
  },
  "language_info": {
   "codemirror_mode": {
    "name": "ipython",
    "version": 3
   },
   "file_extension": ".py",
   "mimetype": "text/x-python",
   "name": "python",
   "nbconvert_exporter": "python",
   "pygments_lexer": "ipython3",
   "version": "3.7.6"
  }
 },
 "nbformat": 4,
 "nbformat_minor": 1
}
