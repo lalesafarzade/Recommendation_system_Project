{
  "cells": [
    {
      "cell_type": "markdown",
      "metadata": {
        "id": "view-in-github",
        "colab_type": "text"
      },
      "source": [
        "<a href=\"https://colab.research.google.com/github/lalesafarzade/Recommendation_system_Project/blob/main/Notebooks/.ipynb_checkpoints/2.Spark-checkpoint.ipynb\" target=\"_parent\"><img src=\"https://colab.research.google.com/assets/colab-badge.svg\" alt=\"Open In Colab\"/></a>"
      ]
    },
    {
      "cell_type": "code",
      "execution_count": 1,
      "metadata": {
        "colab": {
          "base_uri": "https://localhost:8080/"
        },
        "id": "j3R2ViSk_9uB",
        "outputId": "4fd2a889-979b-42b9-e198-6edaa8243340"
      },
      "outputs": [
        {
          "output_type": "stream",
          "name": "stdout",
          "text": [
            "Get:1 https://developer.download.nvidia.com/compute/cuda/repos/ubuntu1804/x86_64  InRelease [1,581 B]\n",
            "Hit:2 http://archive.ubuntu.com/ubuntu bionic InRelease\n",
            "Get:3 https://cloud.r-project.org/bin/linux/ubuntu bionic-cran40/ InRelease [3,626 B]\n",
            "Ign:4 https://developer.download.nvidia.com/compute/machine-learning/repos/ubuntu1804/x86_64  InRelease\n",
            "Hit:5 https://developer.download.nvidia.com/compute/machine-learning/repos/ubuntu1804/x86_64  Release\n",
            "Get:6 http://archive.ubuntu.com/ubuntu bionic-updates InRelease [88.7 kB]\n",
            "Get:7 http://ppa.launchpad.net/c2d4u.team/c2d4u4.0+/ubuntu bionic InRelease [15.9 kB]\n",
            "Get:8 https://developer.download.nvidia.com/compute/cuda/repos/ubuntu1804/x86_64  Packages [787 kB]\n",
            "Get:9 http://security.ubuntu.com/ubuntu bionic-security InRelease [88.7 kB]\n",
            "Get:10 http://archive.ubuntu.com/ubuntu bionic-backports InRelease [74.6 kB]\n",
            "Hit:11 http://ppa.launchpad.net/cran/libgit2/ubuntu bionic InRelease\n",
            "Get:12 http://ppa.launchpad.net/deadsnakes/ppa/ubuntu bionic InRelease [15.9 kB]\n",
            "Get:13 http://ppa.launchpad.net/graphics-drivers/ppa/ubuntu bionic InRelease [21.3 kB]\n",
            "Get:15 http://archive.ubuntu.com/ubuntu bionic-updates/multiverse amd64 Packages [29.8 kB]\n",
            "Get:16 http://archive.ubuntu.com/ubuntu bionic-updates/universe amd64 Packages [2,281 kB]\n",
            "Get:17 http://archive.ubuntu.com/ubuntu bionic-updates/main amd64 Packages [3,223 kB]\n",
            "Get:18 http://archive.ubuntu.com/ubuntu bionic-updates/restricted amd64 Packages [988 kB]\n",
            "Get:19 http://ppa.launchpad.net/c2d4u.team/c2d4u4.0+/ubuntu bionic/main Sources [1,990 kB]\n",
            "Get:20 http://ppa.launchpad.net/c2d4u.team/c2d4u4.0+/ubuntu bionic/main amd64 Packages [1,021 kB]\n",
            "Get:21 http://security.ubuntu.com/ubuntu bionic-security/universe amd64 Packages [1,507 kB]\n",
            "Get:22 http://security.ubuntu.com/ubuntu bionic-security/main amd64 Packages [2,792 kB]\n",
            "Get:23 http://ppa.launchpad.net/deadsnakes/ppa/ubuntu bionic/main amd64 Packages [45.3 kB]\n",
            "Get:24 http://security.ubuntu.com/ubuntu bionic-security/multiverse amd64 Packages [22.8 kB]\n",
            "Get:25 http://security.ubuntu.com/ubuntu bionic-security/restricted amd64 Packages [954 kB]\n",
            "Get:26 http://ppa.launchpad.net/graphics-drivers/ppa/ubuntu bionic/main amd64 Packages [44.3 kB]\n",
            "Fetched 16.0 MB in 8s (2,133 kB/s)\n",
            "Reading package lists... Done\n"
          ]
        }
      ],
      "source": [
        "import os\n",
        "\n",
        "spark_version = 'spark-3.2.1'\n",
        "os.environ['SPARK_VERSION']=spark_version\n",
        "\n",
        "# Install Spark and Java\n",
        "!apt-get update\n",
        "!apt-get install openjdk-8-jdk-headless -qq > /dev/null\n",
        "!wget -q http://www.apache.org/dist/spark/$SPARK_VERSION/$SPARK_VERSION-bin-hadoop2.7.tgz\n",
        "!tar xf $SPARK_VERSION-bin-hadoop2.7.tgz\n",
        "!pip install -q findspark\n",
        "\n",
        "# Set Environment Variables\n",
        "os.environ[\"JAVA_HOME\"] = \"/usr/lib/jvm/java-8-openjdk-amd64\"\n",
        "os.environ[\"SPARK_HOME\"] = f\"/content/{spark_version}-bin-hadoop2.7\"\n",
        "\n",
        "# Start a SparkSession\n",
        "import findspark\n",
        "findspark.init()"
      ]
    },
    {
      "cell_type": "code",
      "execution_count": 2,
      "metadata": {
        "colab": {
          "base_uri": "https://localhost:8080/"
        },
        "id": "rlS4UNU5oWV8",
        "outputId": "03f345e5-bd0e-4f76-c649-b40eb9c8a5d5"
      },
      "outputs": [
        {
          "output_type": "stream",
          "name": "stdout",
          "text": [
            "Mounted at /content/drive\n"
          ]
        }
      ],
      "source": [
        "from google.colab import drive\n",
        "drive.mount('/content/drive')"
      ]
    },
    {
      "cell_type": "code",
      "execution_count": 3,
      "metadata": {
        "id": "81FEM_zrUElg"
      },
      "outputs": [],
      "source": [
        "import numpy as np # linear algebra\n",
        "import pandas as pd # data processing, CSV file I/O (e.g. pd.read_csv)\n",
        "\n",
        "#Apache Spark Libraries\n",
        "import pyspark\n",
        "from pyspark.sql import SparkSession\n",
        "from pyspark.ml.tuning import ParamGridBuilder, CrossValidator\n",
        "from pyspark.sql import *\n",
        "from pyspark.sql.types import *\n",
        "from pyspark.sql.functions import *\n",
        "\n",
        "from pyspark.ml.evaluation import RegressionEvaluator\n",
        "from pyspark.ml.recommendation import ALS\n",
        "from pyspark.sql import Row\n"
      ]
    },
    {
      "cell_type": "code",
      "execution_count": 4,
      "metadata": {
        "id": "_m6xxfA7ANeV"
      },
      "outputs": [],
      "source": [
        "from pyspark.sql import SparkSession\n",
        "spark = SparkSession.builder.appName(\"Movie\").config(\"spark.executor.memory\", \"1G\").config(\"spark.executor.cores\",\"4\").getOrCreate()"
      ]
    },
    {
      "cell_type": "code",
      "execution_count": 5,
      "metadata": {
        "colab": {
          "base_uri": "https://localhost:8080/"
        },
        "id": "JYCV-eKeA2yR",
        "outputId": "5ba994f9-17a6-46ee-ce3c-28dec1ad7fe0"
      },
      "outputs": [
        {
          "output_type": "execute_result",
          "data": {
            "text/plain": [
              "DataFrame[movieId: int, title: string, genres: string]"
            ]
          },
          "metadata": {},
          "execution_count": 5
        }
      ],
      "source": [
        "url = 'https://movielens1.s3.amazonaws.com/movies.csv'\n",
        "\n",
        "movie = spark.read.format(\"csv\") \\\n",
        "       .option(\"header\", \"true\") \\\n",
        "       .option(\"inferSchema\",\"true\")\\\n",
        "       .load(url) \n",
        "\n",
        "movie.cache()"
      ]
    },
    {
      "cell_type": "code",
      "execution_count": 6,
      "metadata": {
        "colab": {
          "base_uri": "https://localhost:8080/"
        },
        "id": "gJAPivHZBtYA",
        "outputId": "54405402-6ca9-414c-b4c7-6200818d7360"
      },
      "outputs": [
        {
          "output_type": "stream",
          "name": "stdout",
          "text": [
            "+-------+----------------+--------------------+\n",
            "|movieId|           title|              genres|\n",
            "+-------+----------------+--------------------+\n",
            "|      1|Toy Story (1995)|Adventure|Animati...|\n",
            "|      2|  Jumanji (1995)|Adventure|Childre...|\n",
            "+-------+----------------+--------------------+\n",
            "only showing top 2 rows\n",
            "\n"
          ]
        }
      ],
      "source": [
        "#movie=movie.drop('genres')\n",
        "movie.show(2)"
      ]
    },
    {
      "cell_type": "code",
      "execution_count": 7,
      "metadata": {
        "colab": {
          "base_uri": "https://localhost:8080/"
        },
        "id": "uOLDTzTbBqA1",
        "outputId": "39d1b430-73df-4901-bbe7-8dbf558a277d"
      },
      "outputs": [
        {
          "output_type": "execute_result",
          "data": {
            "text/plain": [
              "DataFrame[userId: int, movieId: int, rating: double, timestamp: int]"
            ]
          },
          "metadata": {},
          "execution_count": 7
        }
      ],
      "source": [
        "url = 'https://movielens1.s3.amazonaws.com/ratings.csv'\n",
        "\n",
        "rating = spark.read.format(\"csv\") \\\n",
        "       .option(\"header\", \"true\") \\\n",
        "       .option(\"inferSchema\",\"true\")\\\n",
        "       .load(url) \n",
        "\n",
        "rating.cache() #for faster re-use"
      ]
    },
    {
      "cell_type": "code",
      "execution_count": 8,
      "metadata": {
        "colab": {
          "base_uri": "https://localhost:8080/"
        },
        "id": "4iD_eIY0B0HG",
        "outputId": "a586aad5-10cf-4ad3-d27a-31e4f3cb3028"
      },
      "outputs": [
        {
          "output_type": "stream",
          "name": "stdout",
          "text": [
            "+------+-------+------+----------+\n",
            "|userId|movieId|rating| timestamp|\n",
            "+------+-------+------+----------+\n",
            "|     1|    296|   5.0|1147880044|\n",
            "|     1|    306|   3.5|1147868817|\n",
            "+------+-------+------+----------+\n",
            "only showing top 2 rows\n",
            "\n"
          ]
        }
      ],
      "source": [
        "rating.show(2)"
      ]
    },
    {
      "cell_type": "code",
      "execution_count": null,
      "metadata": {
        "colab": {
          "base_uri": "https://localhost:8080/"
        },
        "id": "BbYV5oQXB2oU",
        "outputId": "cf8157b5-e201-4e60-9f60-1d8df4779605"
      },
      "outputs": [
        {
          "name": "stdout",
          "output_type": "stream",
          "text": [
            "+------+-------+------+---------+\n",
            "|userId|movieId|rating|timestamp|\n",
            "+------+-------+------+---------+\n",
            "|     0|      0|     0|        0|\n",
            "+------+-------+------+---------+\n",
            "\n"
          ]
        }
      ],
      "source": [
        "# Find Count of Null, None, NaN of All DataFrame Columns\n",
        "from pyspark.sql.functions import col,isnan, when, count\n",
        "rating.select([count(when(isnan(c) | col(c).isNull(), c)).alias(c) for c in rating.columns]\n",
        "   ).show()"
      ]
    },
    {
      "cell_type": "code",
      "execution_count": 9,
      "metadata": {
        "id": "mD6FMxh94cLF"
      },
      "outputs": [],
      "source": [
        "movie=movie.drop('genres')"
      ]
    },
    {
      "cell_type": "code",
      "source": [
        "rating=rating.drop('timestamp')"
      ],
      "metadata": {
        "id": "pe6vQ1jZ6v8D"
      },
      "execution_count": 11,
      "outputs": []
    },
    {
      "cell_type": "code",
      "execution_count": 12,
      "metadata": {
        "colab": {
          "base_uri": "https://localhost:8080/"
        },
        "id": "0h8WRXxv4ksR",
        "outputId": "e5c50765-e301-4ed1-93fb-f863837a046b"
      },
      "outputs": [
        {
          "output_type": "stream",
          "name": "stdout",
          "text": [
            "root\n",
            " |-- movieId: integer (nullable = true)\n",
            " |-- userId: integer (nullable = true)\n",
            " |-- rating: double (nullable = true)\n",
            " |-- title: string (nullable = true)\n",
            "\n"
          ]
        }
      ],
      "source": [
        "df = rating.join(movie,['movieId'],how='inner').distinct()\n",
        "df.printSchema()"
      ]
    },
    {
      "cell_type": "code",
      "execution_count": 13,
      "metadata": {
        "id": "ewUp5BouTx6_"
      },
      "outputs": [],
      "source": [
        "(training, test) = df.randomSplit([0.75, 0.25])"
      ]
    },
    {
      "cell_type": "code",
      "execution_count": null,
      "metadata": {
        "id": "F0iQhLDs4445"
      },
      "outputs": [],
      "source": [
        "rmses=[]\n",
        "for reg in [.01,0.5,.1,.15]:\n",
        "  \n",
        "  als = ALS(userCol=\"userId\",itemCol=\"movieId\",ratingCol=\"rating\",coldStartStrategy=\"drop\", nonnegative = True, implicitPrefs = False,regParam=reg)\n",
        "  model = als.fit(training)\n",
        "  predictions = model.transform(test)\n",
        "  evaluator = RegressionEvaluator(metricName = \"rmse\", labelCol = \"rating\", predictionCol = \"prediction\")\n",
        "  rmses.append(evaluator.evaluate(predictions))\n",
        "\n"
      ]
    },
    {
      "cell_type": "code",
      "execution_count": null,
      "metadata": {
        "colab": {
          "base_uri": "https://localhost:8080/"
        },
        "id": "E97AfNdUUAj2",
        "outputId": "cdb539fe-7298-4542-e624-dd5611da4a38"
      },
      "outputs": [
        {
          "data": {
            "text/plain": [
              "[0.8070268456936307,\n",
              " 0.9980713309798638,\n",
              " 0.8136641375108292,\n",
              " 0.8369208851400409]"
            ]
          },
          "execution_count": 20,
          "metadata": {},
          "output_type": "execute_result"
        }
      ],
      "source": [
        "rmses"
      ]
    },
    {
      "cell_type": "code",
      "execution_count": null,
      "metadata": {
        "id": "iPa5Q88YUp3P"
      },
      "outputs": [],
      "source": [
        "ranks_rmse=[]\n",
        "for rank in range(10,20):\n",
        "  \n",
        "  als = ALS(userCol=\"userId\",itemCol=\"movieId\",ratingCol=\"rating\",coldStartStrategy=\"drop\", nonnegative = True, implicitPrefs = False,regParam=.01,rank=rank)\n",
        "  model = als.fit(training)\n",
        "  predictions = model.transform(test)\n",
        "  evaluator = RegressionEvaluator(metricName = \"rmse\", labelCol = \"rating\", predictionCol = \"prediction\")\n",
        "  ranks_rmse.append(evaluator.evaluate(predictions))"
      ]
    },
    {
      "cell_type": "code",
      "execution_count": null,
      "metadata": {
        "colab": {
          "base_uri": "https://localhost:8080/"
        },
        "id": "TUJJEGV7hrPe",
        "outputId": "6c003af5-12eb-45cc-a7ce-8e7c470c15f1"
      },
      "outputs": [
        {
          "data": {
            "text/plain": [
              "[0.8070268456936307,\n",
              " 0.8044669593529069,\n",
              " 0.8063713814109872,\n",
              " 0.8072200779995645,\n",
              " 0.8082110898664787,\n",
              " 0.8073313613300547,\n",
              " 0.8063300764454617,\n",
              " 0.8083782773740316,\n",
              " 0.8102906451829985,\n",
              " 0.8079662524192257]"
            ]
          },
          "execution_count": 24,
          "metadata": {},
          "output_type": "execute_result"
        }
      ],
      "source": [
        "ranks_rmse"
      ]
    },
    {
      "cell_type": "code",
      "execution_count": 19,
      "metadata": {
        "id": "AxOn9g6Tdm4b"
      },
      "outputs": [],
      "source": [
        "reg=.01\n",
        "rank=11\n",
        "als = ALS(userCol=\"userId\",itemCol=\"movieId\",ratingCol=\"rating\",coldStartStrategy=\"drop\", nonnegative = True, implicitPrefs = False,rank=rank,regParam=reg)\n",
        "model = als.fit(training)"
      ]
    },
    {
      "cell_type": "code",
      "execution_count": 20,
      "metadata": {
        "id": "GvPQtaoCeSBd"
      },
      "outputs": [],
      "source": [
        "predictions = model.transform(test)"
      ]
    },
    {
      "cell_type": "code",
      "execution_count": 21,
      "metadata": {
        "colab": {
          "base_uri": "https://localhost:8080/"
        },
        "id": "Zr9h28YagdjM",
        "outputId": "b8177036-c56f-4288-936d-6779a75fb30b"
      },
      "outputs": [
        {
          "output_type": "stream",
          "name": "stdout",
          "text": [
            "Root-mean-square error = 0.8084089694149498\n"
          ]
        }
      ],
      "source": [
        "# Define evaluator as RMSE\n",
        "evaluator = RegressionEvaluator(metricName = \"rmse\", labelCol = \"rating\", predictionCol = \"prediction\")\n",
        "rmse = evaluator.evaluate(predictions)\n",
        "print(\"Root-mean-square error = \" + str(rmse))"
      ]
    },
    {
      "cell_type": "code",
      "execution_count": null,
      "metadata": {
        "id": "4qB4iXZNqs9I"
      },
      "outputs": [],
      "source": [
        "#als = ALS(userCol=\"userId\",itemCol=\"movieId\",ratingCol=\"rating\",coldStartStrategy=\"drop\", nonnegative = True, implicitPrefs = False)\n",
        "#param_grid = ParamGridBuilder().addGrid(als.rank, [10, 50]) .addGrid(als.maxIter, [5,75]) .addGrid(als.regParam, [.05, .15]).build()\n",
        "\n",
        "# Define evaluator as RMSE\n",
        "#evaluator = RegressionEvaluator(metricName = \"rmse\", labelCol = \"rating\", predictionCol = \"prediction\")\n",
        "# Print length of evaluator\n",
        "#print (\"Number of models by using param_grid: \", len(param_grid))\n",
        "#cv=CrossValidator(estimator=als,estimatorParamMaps=param_grid,evaluator=evaluator,numFolds=4)\n",
        "#cvModel=cv.fit(training)"
      ]
    },
    {
      "cell_type": "code",
      "execution_count": 22,
      "metadata": {
        "id": "YyPan_Gqh4i8"
      },
      "outputs": [],
      "source": [
        "import tempfile\n",
        "path1 = tempfile.mkdtemp()\n",
        "path = path1 + F\"/content/drive/MyDrive/spark_model\"\n",
        "#model.write().save(path)"
      ]
    },
    {
      "cell_type": "code",
      "execution_count": 23,
      "metadata": {
        "id": "Rkbgp6b1ixqy"
      },
      "outputs": [],
      "source": [
        "path = path1 "
      ]
    },
    {
      "cell_type": "code",
      "execution_count": 24,
      "metadata": {
        "id": "Ahn8OC2cmP6d"
      },
      "outputs": [],
      "source": [
        "loaded_model=model.read().load(\"/content/drive/MyDrive/spark_model\")"
      ]
    },
    {
      "cell_type": "code",
      "execution_count": 25,
      "metadata": {
        "colab": {
          "base_uri": "https://localhost:8080/"
        },
        "id": "QykpUGmOa7E5",
        "outputId": "73e3bb75-14ab-4853-c435-f0a96cb46014"
      },
      "outputs": [
        {
          "output_type": "stream",
          "name": "stdout",
          "text": [
            "+-------+------+------+--------------------+----------+\n",
            "|movieId|userId|rating|               title|prediction|\n",
            "+-------+------+------+--------------------+----------+\n",
            "|   5147|     1|   4.0|Wild Strawberries...|   3.61767|\n",
            "|   7234|     1|   4.5|   Strada, La (1954)|  4.048774|\n",
            "|   5684|     1|   2.0|   Naqoyqatsi (2002)| 4.4147673|\n",
            "|   7937|     1|   3.0|Silence, The (Tys...|  3.640487|\n",
            "|   1653|     1|   4.0|      Gattaca (1997)| 3.3478715|\n",
            "|   4973|     1|   4.5|Amelie (Fabuleux ...| 4.7244253|\n",
            "|   8973|     1|   4.0|Bad Education (La...| 3.7810535|\n",
            "|   2068|     1|   2.5|Fanny and Alexand...| 3.6367033|\n",
            "|   6539|     1|   3.5|Pirates of the Ca...| 3.1320944|\n",
            "|   7318|     1|   2.0|Passion of the Ch...| 3.1222324|\n",
            "|   2351|     1|   4.5|Nights of Cabiria...|  3.809688|\n",
            "|   6711|     1|   5.0|Lost in Translati...| 4.0117655|\n",
            "|   8873|     1|   3.0|Motorcycle Diarie...| 4.2967334|\n",
            "|   2843|     1|   4.5|Black Cat, White ...|  4.779915|\n",
            "|   7938|     1|   2.5|Winter Light (Nat...| 3.2611105|\n",
            "|   8729|     1|   3.5|Swann in Love (Un...| 2.9599848|\n",
            "|  27193|     1|   3.0|       Taxi 2 (2000)| 3.0718157|\n",
            "|  32591|     1|   5.0|Look at Me (Comme...| 4.8687353|\n",
            "|     32|     3|   4.5|Twelve Monkeys (a...| 4.2676105|\n",
            "|    924|     3|   5.0|2001: A Space Ody...| 3.9235198|\n",
            "+-------+------+------+--------------------+----------+\n",
            "only showing top 20 rows\n",
            "\n"
          ]
        }
      ],
      "source": [
        "predictions.show(n = 20)"
      ]
    },
    {
      "cell_type": "code",
      "execution_count": 26,
      "metadata": {
        "colab": {
          "base_uri": "https://localhost:8080/"
        },
        "id": "1ZD9FRDfoJyC",
        "outputId": "230f8492-05a9-4d22-d88f-a563cf1ea72a"
      },
      "outputs": [
        {
          "output_type": "stream",
          "name": "stdout",
          "text": [
            "+------+-------+\n",
            "|userId|movieId|\n",
            "+------+-------+\n",
            "|  7000|      3|\n",
            "|  7000|      4|\n",
            "|  7000|      7|\n",
            "+------+-------+\n",
            "\n"
          ]
        }
      ],
      "source": [
        "specific_user_preds = spark.createDataFrame([(7000,3),(7000,4),( 7000,7)], [ \"userId\",\"movieId\"])\n",
        "specific_user_preds.show()"
      ]
    },
    {
      "cell_type": "code",
      "execution_count": 27,
      "metadata": {
        "colab": {
          "base_uri": "https://localhost:8080/"
        },
        "id": "ZvoR2Whfqb_1",
        "outputId": "5693e022-566a-49a0-873d-1b2a1d096004"
      },
      "outputs": [
        {
          "output_type": "stream",
          "name": "stdout",
          "text": [
            "+------+-------+----------+\n",
            "|userId|movieId|prediction|\n",
            "+------+-------+----------+\n",
            "|  7000|      3| 3.2310753|\n",
            "|  7000|      4|  3.040509|\n",
            "|  7000|      7|  3.406274|\n",
            "+------+-------+----------+\n",
            "\n"
          ]
        }
      ],
      "source": [
        "new_predictions=loaded_model.transform(specific_user_preds)\n",
        "new_predictions.show()"
      ]
    },
    {
      "cell_type": "code",
      "execution_count": 28,
      "metadata": {
        "id": "OwKY_Y1JqvBZ",
        "outputId": "9e741021-3534-4a85-acb3-633f5ceae7e5",
        "colab": {
          "base_uri": "https://localhost:8080/"
        }
      },
      "outputs": [
        {
          "output_type": "stream",
          "name": "stderr",
          "text": [
            "/content/spark-3.2.1-bin-hadoop2.7/python/pyspark/sql/context.py:127: FutureWarning: Deprecated in 3.0.0. Use SparkSession.builder.getOrCreate() instead.\n",
            "  FutureWarning\n"
          ]
        }
      ],
      "source": [
        "user_recommend=model.recommendForAllUsers(5)\n",
        "movier_recommend=model.recommendForAllItems(5)"
      ]
    },
    {
      "cell_type": "code",
      "source": [
        "user_recommend.select(\"userId\",\"recommendations.movieId\").show(10,False)\n"
      ],
      "metadata": {
        "id": "1NaKT8Ru-v3I",
        "outputId": "fbf0d021-beb5-462f-de98-822af2029d69",
        "colab": {
          "base_uri": "https://localhost:8080/"
        }
      },
      "execution_count": 29,
      "outputs": [
        {
          "output_type": "stream",
          "name": "stdout",
          "text": [
            "+------+----------------------------------------+\n",
            "|userId|movieId                                 |\n",
            "+------+----------------------------------------+\n",
            "|1     |[198657, 154933, 128667, 177195, 153919]|\n",
            "|3     |[208000, 96257, 195911, 174357, 148919] |\n",
            "|5     |[76163, 196527, 96257, 148919, 145724]  |\n",
            "|6     |[128667, 154933, 208000, 198657, 185653]|\n",
            "|9     |[96257, 183945, 152043, 127252, 116821] |\n",
            "|12    |[128667, 154933, 198657, 208000, 153919]|\n",
            "|13    |[208000, 128667, 195911, 154933, 198657]|\n",
            "|15    |[196527, 148919, 133749, 196641, 77344] |\n",
            "|16    |[208000, 128667, 154933, 198657, 199340]|\n",
            "|17    |[96257, 120911, 183945, 191217, 178927] |\n",
            "+------+----------------------------------------+\n",
            "only showing top 10 rows\n",
            "\n"
          ]
        }
      ]
    },
    {
      "cell_type": "code",
      "source": [
        "movier_recommend.select(\"movieId\",\"recommendations.userId\").show(10,False)"
      ],
      "metadata": {
        "id": "IrYDhRYT_MrA",
        "outputId": "0a69e8e5-1b8c-4c46-ec0d-03f6d56ade99",
        "colab": {
          "base_uri": "https://localhost:8080/"
        }
      },
      "execution_count": 30,
      "outputs": [
        {
          "output_type": "stream",
          "name": "stdout",
          "text": [
            "+-------+---------------------------------------+\n",
            "|movieId|userId                                 |\n",
            "+-------+---------------------------------------+\n",
            "|1      |[64727, 57685, 161042, 21599, 112459]  |\n",
            "|3      |[26426, 71517, 42939, 4243, 82361]     |\n",
            "|5      |[15900, 54323, 128747, 78797, 71517]   |\n",
            "|6      |[156968, 99204, 30716, 57787, 49833]   |\n",
            "|9      |[25946, 1225, 16128, 71750, 160623]    |\n",
            "|12     |[156046, 81683, 107696, 151960, 47232] |\n",
            "|13     |[63814, 97093, 83125, 75028, 137430]   |\n",
            "|15     |[81683, 107696, 143282, 158438, 156046]|\n",
            "|16     |[58129, 33602, 99204, 74964, 42612]    |\n",
            "|17     |[135583, 64609, 123526, 107022, 58248] |\n",
            "+-------+---------------------------------------+\n",
            "only showing top 10 rows\n",
            "\n"
          ]
        }
      ]
    }
  ],
  "metadata": {
    "colab": {
      "name": "Untitled2.ipynb",
      "provenance": [],
      "include_colab_link": true
    },
    "kernelspec": {
      "display_name": "Python 3",
      "language": "python",
      "name": "python3"
    },
    "language_info": {
      "codemirror_mode": {
        "name": "ipython",
        "version": 3
      },
      "file_extension": ".py",
      "mimetype": "text/x-python",
      "name": "python",
      "nbconvert_exporter": "python",
      "pygments_lexer": "ipython3",
      "version": "3.7.6"
    }
  },
  "nbformat": 4,
  "nbformat_minor": 0
}