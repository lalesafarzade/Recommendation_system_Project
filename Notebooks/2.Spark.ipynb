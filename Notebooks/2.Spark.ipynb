{
  "nbformat": 4,
  "nbformat_minor": 0,
  "metadata": {
    "colab": {
      "name": "Untitled2.ipynb",
      "provenance": [],
      "authorship_tag": "ABX9TyPyMT/NMSZI5hzkrvG5eVQW",
      "include_colab_link": true
    },
    "kernelspec": {
      "name": "python3",
      "display_name": "Python 3"
    },
    "language_info": {
      "name": "python"
    }
  },
  "cells": [
    {
      "cell_type": "markdown",
      "metadata": {
        "id": "view-in-github",
        "colab_type": "text"
      },
      "source": [
        "<a href=\"https://colab.research.google.com/github/lalesafarzade/Recommendation_system_Project/blob/lale/Notebooks/2.Spark.ipynb\" target=\"_parent\"><img src=\"https://colab.research.google.com/assets/colab-badge.svg\" alt=\"Open In Colab\"/></a>"
      ]
    },
    {
      "cell_type": "code",
      "execution_count": 1,
      "metadata": {
        "colab": {
          "base_uri": "https://localhost:8080/"
        },
        "id": "j3R2ViSk_9uB",
        "outputId": "9cad15e1-021f-4ce2-d08f-dd747981ec9f"
      },
      "outputs": [
        {
          "output_type": "stream",
          "name": "stdout",
          "text": [
            "\r0% [Working]\r            \rHit:1 https://developer.download.nvidia.com/compute/cuda/repos/ubuntu1804/x86_64  InRelease\n",
            "\r0% [Waiting for headers] [Waiting for headers] [Connected to cloud.r-project.or\r                                                                               \rHit:2 http://archive.ubuntu.com/ubuntu bionic InRelease\n",
            "\r0% [Waiting for headers] [Waiting for headers] [Waiting for headers] [Waiting f\r0% [1 InRelease gpgv 1,581 B] [Waiting for headers] [Waiting for headers] [Wait\r                                                                               \rHit:3 https://cloud.r-project.org/bin/linux/ubuntu bionic-cran40/ InRelease\n",
            "Get:4 http://archive.ubuntu.com/ubuntu bionic-updates InRelease [88.7 kB]\n",
            "Hit:5 http://ppa.launchpad.net/c2d4u.team/c2d4u4.0+/ubuntu bionic InRelease\n",
            "Get:6 http://security.ubuntu.com/ubuntu bionic-security InRelease [88.7 kB]\n",
            "Ign:7 https://developer.download.nvidia.com/compute/machine-learning/repos/ubuntu1804/x86_64  InRelease\n",
            "Hit:8 https://developer.download.nvidia.com/compute/machine-learning/repos/ubuntu1804/x86_64  Release\n",
            "Get:9 http://archive.ubuntu.com/ubuntu bionic-backports InRelease [74.6 kB]\n",
            "Hit:10 http://ppa.launchpad.net/cran/libgit2/ubuntu bionic InRelease\n",
            "Hit:11 http://ppa.launchpad.net/deadsnakes/ppa/ubuntu bionic InRelease\n",
            "Hit:12 http://ppa.launchpad.net/graphics-drivers/ppa/ubuntu bionic InRelease\n",
            "Fetched 252 kB in 5s (50.1 kB/s)\n",
            "Reading package lists... Done\n"
          ]
        }
      ],
      "source": [
        "import os\n",
        "\n",
        "spark_version = 'spark-3.2.1'\n",
        "os.environ['SPARK_VERSION']=spark_version\n",
        "\n",
        "# Install Spark and Java\n",
        "!apt-get update\n",
        "!apt-get install openjdk-8-jdk-headless -qq > /dev/null\n",
        "!wget -q http://www.apache.org/dist/spark/$SPARK_VERSION/$SPARK_VERSION-bin-hadoop2.7.tgz\n",
        "!tar xf $SPARK_VERSION-bin-hadoop2.7.tgz\n",
        "!pip install -q findspark\n",
        "\n",
        "# Set Environment Variables\n",
        "os.environ[\"JAVA_HOME\"] = \"/usr/lib/jvm/java-8-openjdk-amd64\"\n",
        "os.environ[\"SPARK_HOME\"] = f\"/content/{spark_version}-bin-hadoop2.7\"\n",
        "\n",
        "# Start a SparkSession\n",
        "import findspark\n",
        "findspark.init()"
      ]
    },
    {
      "cell_type": "code",
      "source": [
        "from google.colab import drive\n",
        "drive.mount('/content/drive')"
      ],
      "metadata": {
        "id": "rlS4UNU5oWV8",
        "outputId": "cb889d0c-9b3f-4128-eda6-341e17fdc85e",
        "colab": {
          "base_uri": "https://localhost:8080/"
        }
      },
      "execution_count": 2,
      "outputs": [
        {
          "output_type": "stream",
          "name": "stdout",
          "text": [
            "Drive already mounted at /content/drive; to attempt to forcibly remount, call drive.mount(\"/content/drive\", force_remount=True).\n"
          ]
        }
      ]
    },
    {
      "cell_type": "code",
      "source": [
        "import numpy as np # linear algebra\n",
        "import pandas as pd # data processing, CSV file I/O (e.g. pd.read_csv)\n",
        "\n",
        "#Apache Spark Libraries\n",
        "import pyspark\n",
        "from pyspark.sql import SparkSession\n",
        "from pyspark.ml.tuning import ParamGridBuilder, CrossValidator\n",
        "from pyspark.sql import *\n",
        "from pyspark.sql.types import *\n",
        "from pyspark.sql.functions import *\n",
        "\n",
        "from pyspark.ml.evaluation import RegressionEvaluator\n",
        "from pyspark.ml.recommendation import ALS\n",
        "from pyspark.sql import Row\n"
      ],
      "metadata": {
        "id": "81FEM_zrUElg"
      },
      "execution_count": 3,
      "outputs": []
    },
    {
      "cell_type": "code",
      "source": [
        "from pyspark.sql import SparkSession\n",
        "spark = SparkSession.builder.appName(\"Movie\").config(\"spark.executor.memory\", \"1G\").config(\"spark.executor.cores\",\"4\").getOrCreate()"
      ],
      "metadata": {
        "id": "_m6xxfA7ANeV"
      },
      "execution_count": 4,
      "outputs": []
    },
    {
      "cell_type": "code",
      "source": [
        "url = '/content/drive/MyDrive/movies.csv'\n",
        "\n",
        "movie = spark.read.format(\"csv\") \\\n",
        "       .option(\"header\", \"true\") \\\n",
        "       .option(\"inferSchema\",\"true\")\\\n",
        "       .load(url) \n",
        "\n",
        "movie.cache()"
      ],
      "metadata": {
        "colab": {
          "base_uri": "https://localhost:8080/"
        },
        "id": "JYCV-eKeA2yR",
        "outputId": "51fe541c-995c-4d59-dc50-dae6c64490b7"
      },
      "execution_count": 5,
      "outputs": [
        {
          "output_type": "execute_result",
          "data": {
            "text/plain": [
              "DataFrame[movieId: int, title: string, genres: string]"
            ]
          },
          "metadata": {},
          "execution_count": 5
        }
      ]
    },
    {
      "cell_type": "code",
      "source": [
        "#movie=movie.drop('genres')\n",
        "movie.show(2)"
      ],
      "metadata": {
        "id": "gJAPivHZBtYA",
        "colab": {
          "base_uri": "https://localhost:8080/"
        },
        "outputId": "dc876012-c480-4d80-8045-710353519b99"
      },
      "execution_count": 6,
      "outputs": [
        {
          "output_type": "stream",
          "name": "stdout",
          "text": [
            "+-------+----------------+--------------------+\n",
            "|movieId|           title|              genres|\n",
            "+-------+----------------+--------------------+\n",
            "|      1|Toy Story (1995)|Adventure|Animati...|\n",
            "|      2|  Jumanji (1995)|Adventure|Childre...|\n",
            "+-------+----------------+--------------------+\n",
            "only showing top 2 rows\n",
            "\n"
          ]
        }
      ]
    },
    {
      "cell_type": "code",
      "source": [
        "url = '/content/drive/MyDrive/ratings.csv'\n",
        "\n",
        "rating = spark.read.format(\"csv\") \\\n",
        "       .option(\"header\", \"true\") \\\n",
        "       .option(\"inferSchema\",\"true\")\\\n",
        "       .load(url) \n",
        "\n",
        "rating.cache() #for faster re-use"
      ],
      "metadata": {
        "colab": {
          "base_uri": "https://localhost:8080/"
        },
        "id": "uOLDTzTbBqA1",
        "outputId": "07cfb6aa-7192-4013-f42e-1babc8cd8dc9"
      },
      "execution_count": 7,
      "outputs": [
        {
          "output_type": "execute_result",
          "data": {
            "text/plain": [
              "DataFrame[userId: int, movieId: int, rating: double, timestamp: int]"
            ]
          },
          "metadata": {},
          "execution_count": 7
        }
      ]
    },
    {
      "cell_type": "code",
      "source": [
        "rating.show(2)"
      ],
      "metadata": {
        "colab": {
          "base_uri": "https://localhost:8080/"
        },
        "id": "4iD_eIY0B0HG",
        "outputId": "41ebaa91-7d9c-45b3-d053-2ee788617daa"
      },
      "execution_count": 8,
      "outputs": [
        {
          "output_type": "stream",
          "name": "stdout",
          "text": [
            "+------+-------+------+----------+\n",
            "|userId|movieId|rating| timestamp|\n",
            "+------+-------+------+----------+\n",
            "|     1|    296|   5.0|1147880044|\n",
            "|     1|    306|   3.5|1147868817|\n",
            "+------+-------+------+----------+\n",
            "only showing top 2 rows\n",
            "\n"
          ]
        }
      ]
    },
    {
      "cell_type": "code",
      "source": [
        "# Find Count of Null, None, NaN of All DataFrame Columns\n",
        "from pyspark.sql.functions import col,isnan, when, count\n",
        "rating.select([count(when(isnan(c) | col(c).isNull(), c)).alias(c) for c in rating.columns]\n",
        "   ).show()"
      ],
      "metadata": {
        "colab": {
          "base_uri": "https://localhost:8080/"
        },
        "id": "BbYV5oQXB2oU",
        "outputId": "cf8157b5-e201-4e60-9f60-1d8df4779605"
      },
      "execution_count": 9,
      "outputs": [
        {
          "output_type": "stream",
          "name": "stdout",
          "text": [
            "+------+-------+------+---------+\n",
            "|userId|movieId|rating|timestamp|\n",
            "+------+-------+------+---------+\n",
            "|     0|      0|     0|        0|\n",
            "+------+-------+------+---------+\n",
            "\n"
          ]
        }
      ]
    },
    {
      "cell_type": "code",
      "source": [
        "movie=movie.drop('genres')"
      ],
      "metadata": {
        "id": "mD6FMxh94cLF"
      },
      "execution_count": 11,
      "outputs": []
    },
    {
      "cell_type": "code",
      "source": [
        "df = rating.join(movie,['movieId'],how='inner').distinct()\n",
        "df.printSchema()"
      ],
      "metadata": {
        "id": "0h8WRXxv4ksR",
        "outputId": "cb2218ae-4351-4a72-ed4a-afd1b46155c1",
        "colab": {
          "base_uri": "https://localhost:8080/"
        }
      },
      "execution_count": 12,
      "outputs": [
        {
          "output_type": "stream",
          "name": "stdout",
          "text": [
            "root\n",
            " |-- movieId: integer (nullable = true)\n",
            " |-- userId: integer (nullable = true)\n",
            " |-- rating: double (nullable = true)\n",
            " |-- timestamp: integer (nullable = true)\n",
            " |-- title: string (nullable = true)\n",
            "\n"
          ]
        }
      ]
    },
    {
      "cell_type": "code",
      "source": [
        "df=df.drop('timestamp')\n",
        "df.show(2)"
      ],
      "metadata": {
        "id": "BrIP7qRM4osR",
        "outputId": "2d89f732-097f-4250-e59c-c81b7da4a999",
        "colab": {
          "base_uri": "https://localhost:8080/"
        }
      },
      "execution_count": 34,
      "outputs": [
        {
          "output_type": "stream",
          "name": "stdout",
          "text": [
            "+-------+------+------+--------------------+\n",
            "|movieId|userId|rating|               title|\n",
            "+-------+------+------+--------------------+\n",
            "|    500| 13424|   3.0|Mrs. Doubtfire (1...|\n",
            "|      9| 25197|   5.0| Sudden Death (1995)|\n",
            "+-------+------+------+--------------------+\n",
            "only showing top 2 rows\n",
            "\n"
          ]
        }
      ]
    },
    {
      "cell_type": "code",
      "source": [
        "(training, test) = df.randomSplit([0.75, 0.25])"
      ],
      "metadata": {
        "id": "ewUp5BouTx6_"
      },
      "execution_count": 35,
      "outputs": []
    },
    {
      "cell_type": "code",
      "source": [
        "rmses=[]\n",
        "for reg in [.01,0.5,.1,.15]:\n",
        "  \n",
        "  als = ALS(userCol=\"userId\",itemCol=\"movieId\",ratingCol=\"rating\",coldStartStrategy=\"drop\", nonnegative = True, implicitPrefs = False,regParam=reg)\n",
        "  model = als.fit(training)\n",
        "  predictions = model.transform(test)\n",
        "  evaluator = RegressionEvaluator(metricName = \"rmse\", labelCol = \"rating\", predictionCol = \"prediction\")\n",
        "  rmses.append(evaluator.evaluate(predictions))\n",
        "\n"
      ],
      "metadata": {
        "id": "F0iQhLDs4445"
      },
      "execution_count": 17,
      "outputs": []
    },
    {
      "cell_type": "code",
      "source": [
        "rmses"
      ],
      "metadata": {
        "id": "E97AfNdUUAj2",
        "colab": {
          "base_uri": "https://localhost:8080/"
        },
        "outputId": "cdb539fe-7298-4542-e624-dd5611da4a38"
      },
      "execution_count": 20,
      "outputs": [
        {
          "output_type": "execute_result",
          "data": {
            "text/plain": [
              "[0.8070268456936307,\n",
              " 0.9980713309798638,\n",
              " 0.8136641375108292,\n",
              " 0.8369208851400409]"
            ]
          },
          "metadata": {},
          "execution_count": 20
        }
      ]
    },
    {
      "cell_type": "code",
      "source": [
        "ranks_rmse=[]\n",
        "for rank in range(10,20):\n",
        "  \n",
        "  als = ALS(userCol=\"userId\",itemCol=\"movieId\",ratingCol=\"rating\",coldStartStrategy=\"drop\", nonnegative = True, implicitPrefs = False,regParam=.01,rank=rank)\n",
        "  model = als.fit(training)\n",
        "  predictions = model.transform(test)\n",
        "  evaluator = RegressionEvaluator(metricName = \"rmse\", labelCol = \"rating\", predictionCol = \"prediction\")\n",
        "  ranks_rmse.append(evaluator.evaluate(predictions))"
      ],
      "metadata": {
        "id": "iPa5Q88YUp3P"
      },
      "execution_count": 23,
      "outputs": []
    },
    {
      "cell_type": "code",
      "source": [
        "ranks_rmse"
      ],
      "metadata": {
        "id": "TUJJEGV7hrPe",
        "outputId": "6c003af5-12eb-45cc-a7ce-8e7c470c15f1",
        "colab": {
          "base_uri": "https://localhost:8080/"
        }
      },
      "execution_count": 24,
      "outputs": [
        {
          "output_type": "execute_result",
          "data": {
            "text/plain": [
              "[0.8070268456936307,\n",
              " 0.8044669593529069,\n",
              " 0.8063713814109872,\n",
              " 0.8072200779995645,\n",
              " 0.8082110898664787,\n",
              " 0.8073313613300547,\n",
              " 0.8063300764454617,\n",
              " 0.8083782773740316,\n",
              " 0.8102906451829985,\n",
              " 0.8079662524192257]"
            ]
          },
          "metadata": {},
          "execution_count": 24
        }
      ]
    },
    {
      "cell_type": "code",
      "source": [
        "reg=.01\n",
        "rank=11\n",
        "als = ALS(userCol=\"userId\",itemCol=\"movieId\",ratingCol=\"rating\",coldStartStrategy=\"drop\", nonnegative = True, implicitPrefs = False,rank=rank,regParam=reg)\n",
        "model = als.fit(training)"
      ],
      "metadata": {
        "id": "AxOn9g6Tdm4b"
      },
      "execution_count": 36,
      "outputs": []
    },
    {
      "cell_type": "code",
      "source": [
        "predictions = model.transform(test)"
      ],
      "metadata": {
        "id": "GvPQtaoCeSBd"
      },
      "execution_count": 37,
      "outputs": []
    },
    {
      "cell_type": "code",
      "source": [
        "# Define evaluator as RMSE\n",
        "evaluator = RegressionEvaluator(metricName = \"rmse\", labelCol = \"rating\", predictionCol = \"prediction\")\n",
        "rmse = evaluator.evaluate(predictions)\n",
        "print(\"Root-mean-square error = \" + str(rmse))"
      ],
      "metadata": {
        "id": "Zr9h28YagdjM",
        "outputId": "5f796682-37e2-4455-9b0d-0a2cfdf5c949",
        "colab": {
          "base_uri": "https://localhost:8080/"
        }
      },
      "execution_count": 38,
      "outputs": [
        {
          "output_type": "stream",
          "name": "stdout",
          "text": [
            "Root-mean-square error = 0.8057867401376125\n"
          ]
        }
      ]
    },
    {
      "cell_type": "code",
      "source": [
        "#als = ALS(userCol=\"userId\",itemCol=\"movieId\",ratingCol=\"rating\",coldStartStrategy=\"drop\", nonnegative = True, implicitPrefs = False)\n",
        "#param_grid = ParamGridBuilder().addGrid(als.rank, [10, 50]) .addGrid(als.maxIter, [5,75]) .addGrid(als.regParam, [.05, .15]).build()\n",
        "\n",
        "# Define evaluator as RMSE\n",
        "#evaluator = RegressionEvaluator(metricName = \"rmse\", labelCol = \"rating\", predictionCol = \"prediction\")\n",
        "# Print length of evaluator\n",
        "#print (\"Number of models by using param_grid: \", len(param_grid))\n",
        "#cv=CrossValidator(estimator=als,estimatorParamMaps=param_grid,evaluator=evaluator,numFolds=4)\n",
        "#cvModel=cv.fit(training)"
      ],
      "metadata": {
        "id": "4qB4iXZNqs9I"
      },
      "execution_count": 45,
      "outputs": []
    },
    {
      "cell_type": "code",
      "source": [
        "import tempfile\n",
        "path1 = tempfile.mkdtemp()\n",
        "path = path1 + F\"/content/drive/MyDrive/spark_model\"\n",
        "model.write().save(path)"
      ],
      "metadata": {
        "id": "YyPan_Gqh4i8"
      },
      "execution_count": 39,
      "outputs": []
    },
    {
      "cell_type": "code",
      "source": [
        "path"
      ],
      "metadata": {
        "id": "Rkbgp6b1ixqy",
        "outputId": "694b8a4d-d91a-4dc7-8aa8-0c9ad1cc98e1",
        "colab": {
          "base_uri": "https://localhost:8080/",
          "height": 36
        }
      },
      "execution_count": 40,
      "outputs": [
        {
          "output_type": "execute_result",
          "data": {
            "text/plain": [
              "'/tmp/tmpm61cmxkl/content/drive/MyDrive/spark_model'"
            ],
            "application/vnd.google.colaboratory.intrinsic+json": {
              "type": "string"
            }
          },
          "metadata": {},
          "execution_count": 40
        }
      ]
    },
    {
      "cell_type": "code",
      "source": [
        "loaded_model=model.read().load(path)"
      ],
      "metadata": {
        "id": "Ahn8OC2cmP6d"
      },
      "execution_count": 41,
      "outputs": []
    },
    {
      "cell_type": "code",
      "source": [
        "predictions.show(n = 20)"
      ],
      "metadata": {
        "colab": {
          "base_uri": "https://localhost:8080/"
        },
        "id": "QykpUGmOa7E5",
        "outputId": "6f3dd3ea-1583-4bb0-87f5-cc299966f92a"
      },
      "execution_count": 42,
      "outputs": [
        {
          "output_type": "stream",
          "name": "stdout",
          "text": [
            "+-------+------+------+--------------------+----------+\n",
            "|movieId|userId|rating|               title|prediction|\n",
            "+-------+------+------+--------------------+----------+\n",
            "|   7323|     1|   3.5|Good bye, Lenin! ...|  4.067205|\n",
            "|   7365|     1|   4.0|Noi the Albino (N...| 3.5133626|\n",
            "|   8360|     1|   4.0|      Shrek 2 (2004)| 3.0715728|\n",
            "|   8685|     1|   1.0|Miracle of Marcel...| 1.9768935|\n",
            "|   8973|     1|   4.0|Bad Education (La...|  4.278549|\n",
            "|   4703|     1|   4.0|     Chocolat (1988)| 3.4385736|\n",
            "|   7940|     1|   4.5| The Magician (1958)|  3.572158|\n",
            "|   5878|     1|   4.0|Talk to Her (Habl...|  4.130054|\n",
            "|   6954|     1|   3.5|Barbarian Invasio...| 3.9745429|\n",
            "|   3448|     1|   4.0|Good Morning, Vie...| 3.1550221|\n",
            "|   5952|     1|   4.0|Lord of the Rings...|  4.488222|\n",
            "|   2573|     1|   4.0|        Tango (1998)| 2.5541518|\n",
            "|   4308|     1|   3.0| Moulin Rouge (2001)| 4.3651443|\n",
            "|   5767|     1|   5.0|Teddy Bear (Mis) ...| 3.8262622|\n",
            "|   8154|     1|   5.0|Dolce Vita, La (1...|  3.929975|\n",
            "|   2011|     1|   2.5|Back to the Futur...| 2.5767975|\n",
            "|   1217|     1|   3.5|          Ran (1985)|  4.348069|\n",
            "|   2161|     1|   3.5|NeverEnding Story...| 3.0473073|\n",
            "|   8729|     1|   3.5|Swann in Love (Un...|  2.662679|\n",
            "|   4325|     1|   5.0|Night, The (Notte...| 3.9691586|\n",
            "+-------+------+------+--------------------+----------+\n",
            "only showing top 20 rows\n",
            "\n"
          ]
        }
      ]
    },
    {
      "cell_type": "code",
      "source": [
        "specific_user_preds = spark.createDataFrame([(7000,3),(7000,4),( 7000,7)], [ \"userId\",\"movieId\"])\n",
        "specific_user_preds.show()"
      ],
      "metadata": {
        "id": "1ZD9FRDfoJyC",
        "outputId": "858e6b40-fcbe-42c0-f2eb-2a9add5059a1",
        "colab": {
          "base_uri": "https://localhost:8080/"
        }
      },
      "execution_count": 43,
      "outputs": [
        {
          "output_type": "stream",
          "name": "stdout",
          "text": [
            "+------+-------+\n",
            "|userId|movieId|\n",
            "+------+-------+\n",
            "|  7000|      3|\n",
            "|  7000|      4|\n",
            "|  7000|      7|\n",
            "+------+-------+\n",
            "\n"
          ]
        }
      ]
    },
    {
      "cell_type": "code",
      "source": [
        "new_predictions=loaded_model.transform(specific_user_preds)\n",
        "new_predictions.show()"
      ],
      "metadata": {
        "id": "ZvoR2Whfqb_1",
        "outputId": "035c4f9f-8cbc-4e35-8e38-8bbbb4b3a05a",
        "colab": {
          "base_uri": "https://localhost:8080/"
        }
      },
      "execution_count": 44,
      "outputs": [
        {
          "output_type": "stream",
          "name": "stdout",
          "text": [
            "+------+-------+----------+\n",
            "|userId|movieId|prediction|\n",
            "+------+-------+----------+\n",
            "|  7000|      3| 3.9101179|\n",
            "|  7000|      4| 2.8711562|\n",
            "|  7000|      7| 3.8532453|\n",
            "+------+-------+----------+\n",
            "\n"
          ]
        }
      ]
    },
    {
      "cell_type": "code",
      "source": [
        ""
      ],
      "metadata": {
        "id": "OwKY_Y1JqvBZ"
      },
      "execution_count": null,
      "outputs": []
    }
  ]
}