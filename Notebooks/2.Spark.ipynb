{
  "nbformat": 4,
  "nbformat_minor": 0,
  "metadata": {
    "colab": {
      "name": "Untitled2.ipynb",
      "provenance": [],
      "include_colab_link": true
    },
    "kernelspec": {
      "name": "python3",
      "display_name": "Python 3"
    },
    "language_info": {
      "name": "python"
    }
  },
  "cells": [
    {
      "cell_type": "markdown",
      "metadata": {
        "id": "view-in-github",
        "colab_type": "text"
      },
      "source": [
        "<a href=\"https://colab.research.google.com/github/lalesafarzade/Recommendation_system_Project/blob/lale/Notebooks/2.Spark.ipynb\" target=\"_parent\"><img src=\"https://colab.research.google.com/assets/colab-badge.svg\" alt=\"Open In Colab\"/></a>"
      ]
    },
    {
      "cell_type": "code",
      "execution_count": 33,
      "metadata": {
        "colab": {
          "base_uri": "https://localhost:8080/"
        },
        "id": "j3R2ViSk_9uB",
        "outputId": "7a9a6e6b-0c47-4b51-84e6-ab63bee3a141"
      },
      "outputs": [
        {
          "output_type": "stream",
          "name": "stdout",
          "text": [
            "\r0% [Working]\r            \rHit:1 https://developer.download.nvidia.com/compute/cuda/repos/ubuntu1804/x86_64  InRelease\n",
            "Get:2 https://cloud.r-project.org/bin/linux/ubuntu bionic-cran40/ InRelease [3,626 B]\n",
            "Get:3 http://security.ubuntu.com/ubuntu bionic-security InRelease [88.7 kB]\n",
            "Hit:4 http://archive.ubuntu.com/ubuntu bionic InRelease\n",
            "Ign:5 https://developer.download.nvidia.com/compute/machine-learning/repos/ubuntu1804/x86_64  InRelease\n",
            "Hit:6 https://developer.download.nvidia.com/compute/machine-learning/repos/ubuntu1804/x86_64  Release\n",
            "Get:7 http://archive.ubuntu.com/ubuntu bionic-updates InRelease [88.7 kB]\n",
            "Hit:8 http://ppa.launchpad.net/c2d4u.team/c2d4u4.0+/ubuntu bionic InRelease\n",
            "Hit:10 http://ppa.launchpad.net/cran/libgit2/ubuntu bionic InRelease\n",
            "Get:11 http://archive.ubuntu.com/ubuntu bionic-backports InRelease [74.6 kB]\n",
            "Hit:12 http://ppa.launchpad.net/deadsnakes/ppa/ubuntu bionic InRelease\n",
            "Hit:13 http://ppa.launchpad.net/graphics-drivers/ppa/ubuntu bionic InRelease\n",
            "Fetched 256 kB in 2s (109 kB/s)\n",
            "Reading package lists... Done\n"
          ]
        }
      ],
      "source": [
        "import os\n",
        "\n",
        "spark_version = 'spark-3.2.1'\n",
        "os.environ['SPARK_VERSION']=spark_version\n",
        "\n",
        "# Install Spark and Java\n",
        "!apt-get update\n",
        "!apt-get install openjdk-8-jdk-headless -qq > /dev/null\n",
        "!wget -q http://www.apache.org/dist/spark/$SPARK_VERSION/$SPARK_VERSION-bin-hadoop2.7.tgz\n",
        "!tar xf $SPARK_VERSION-bin-hadoop2.7.tgz\n",
        "!pip install -q findspark\n",
        "\n",
        "# Set Environment Variables\n",
        "os.environ[\"JAVA_HOME\"] = \"/usr/lib/jvm/java-8-openjdk-amd64\"\n",
        "os.environ[\"SPARK_HOME\"] = f\"/content/{spark_version}-bin-hadoop2.7\"\n",
        "\n",
        "# Start a SparkSession\n",
        "import findspark\n",
        "findspark.init()"
      ]
    },
    {
      "cell_type": "code",
      "source": [
        "import numpy as np # linear algebra\n",
        "import pandas as pd # data processing, CSV file I/O (e.g. pd.read_csv)\n",
        "\n",
        "#Apache Spark Libraries\n",
        "import pyspark\n",
        "from pyspark.sql import SparkSession\n",
        "from pyspark.ml.tuning import ParamGridBuilder, CrossValidator\n",
        "from pyspark.sql import *\n",
        "from pyspark.sql.types import *\n",
        "from pyspark.sql.functions import *\n",
        "\n",
        "from pyspark.ml.evaluation import RegressionEvaluator\n",
        "from pyspark.ml.recommendation import ALS\n",
        "from pyspark.sql import Row\n"
      ],
      "metadata": {
        "id": "81FEM_zrUElg"
      },
      "execution_count": 34,
      "outputs": []
    },
    {
      "cell_type": "code",
      "source": [
        "from pyspark.sql import SparkSession\n",
        "spark = SparkSession.builder.appName(\"Movie\").config(\"spark.executor.memory\", \"1G\").config(\"spark.executor.cores\",\"4\").getOrCreate()"
      ],
      "metadata": {
        "id": "_m6xxfA7ANeV"
      },
      "execution_count": 35,
      "outputs": []
    },
    {
      "cell_type": "code",
      "source": [
        "from google.colab import drive\n",
        "drive.mount('/content/drive')"
      ],
      "metadata": {
        "id": "qJe85i4brnHs",
        "outputId": "e3c47403-2439-49d3-c52f-3fe9031357b0",
        "colab": {
          "base_uri": "https://localhost:8080/"
        }
      },
      "execution_count": 5,
      "outputs": [
        {
          "output_type": "stream",
          "name": "stdout",
          "text": [
            "Mounted at /content/drive\n"
          ]
        }
      ]
    },
    {
      "cell_type": "code",
      "source": [
        "url = '/content/drive/MyDrive/movies.csv'\n",
        "\n",
        "movie = spark.read.format(\"csv\") \\\n",
        "       .option(\"header\", \"true\") \\\n",
        "       .option(\"inferSchema\",\"true\")\\\n",
        "       .load(url) \n",
        "\n",
        "movie.cache()\n",
        "movie.show(2)"
      ],
      "metadata": {
        "id": "EOk6Fp7hruY2",
        "outputId": "0b4b5b6a-5ce9-4492-fe11-7c314257398a",
        "colab": {
          "base_uri": "https://localhost:8080/"
        }
      },
      "execution_count": 6,
      "outputs": [
        {
          "output_type": "stream",
          "name": "stdout",
          "text": [
            "+-------+----------------+--------------------+\n",
            "|movieId|           title|              genres|\n",
            "+-------+----------------+--------------------+\n",
            "|      1|Toy Story (1995)|Adventure|Animati...|\n",
            "|      2|  Jumanji (1995)|Adventure|Childre...|\n",
            "+-------+----------------+--------------------+\n",
            "only showing top 2 rows\n",
            "\n"
          ]
        }
      ]
    },
    {
      "cell_type": "code",
      "source": [
        "url = '/content/drive/MyDrive/ratings.csv'\n",
        "\n",
        "rating = spark.read.format(\"csv\") \\\n",
        "       .option(\"header\", \"true\") \\\n",
        "       .option(\"inferSchema\",\"true\")\\\n",
        "       .load(url) \n",
        "\n",
        "rating.cache() #for faster re-use\n",
        "rating.show(2)"
      ],
      "metadata": {
        "colab": {
          "base_uri": "https://localhost:8080/"
        },
        "id": "JYCV-eKeA2yR",
        "outputId": "dbd5d3a3-eafe-454d-a615-fa3ce1ceaf55"
      },
      "execution_count": 7,
      "outputs": [
        {
          "output_type": "stream",
          "name": "stdout",
          "text": [
            "+------+-------+------+----------+\n",
            "|userId|movieId|rating| timestamp|\n",
            "+------+-------+------+----------+\n",
            "|     1|    296|   5.0|1147880044|\n",
            "|     1|    306|   3.5|1147868817|\n",
            "+------+-------+------+----------+\n",
            "only showing top 2 rows\n",
            "\n"
          ]
        }
      ]
    },
    {
      "cell_type": "code",
      "source": [
        "rating.printSchema()"
      ],
      "metadata": {
        "colab": {
          "base_uri": "https://localhost:8080/"
        },
        "id": "0Ty5rLMSBrP0",
        "outputId": "a1f23fe4-0772-4dcf-b385-519be1c5ae1f"
      },
      "execution_count": 8,
      "outputs": [
        {
          "output_type": "stream",
          "name": "stdout",
          "text": [
            "root\n",
            " |-- userId: integer (nullable = true)\n",
            " |-- movieId: integer (nullable = true)\n",
            " |-- rating: double (nullable = true)\n",
            " |-- timestamp: integer (nullable = true)\n",
            "\n"
          ]
        }
      ]
    },
    {
      "cell_type": "code",
      "source": [
        "#df = rating.join(movie,['movieId'],how='inner').distinct()\n",
        "#df.show(5)"
      ],
      "metadata": {
        "id": "4iD_eIY0B0HG"
      },
      "execution_count": 10,
      "outputs": []
    },
    {
      "cell_type": "code",
      "source": [
        "# Find Count of Null, None, NaN of All DataFrame Columns\n",
        "#from pyspark.sql.functions import col,isnan, when, count\n",
        "#df.select([count(when(isnan(c) | col(c).isNull(), c)).alias(c) for c in df.columns]).show()"
      ],
      "metadata": {
        "id": "BbYV5oQXB2oU"
      },
      "execution_count": 11,
      "outputs": []
    },
    {
      "cell_type": "code",
      "source": [
        "(training, test) = rating.randomSplit([0.8, 0.2])"
      ],
      "metadata": {
        "id": "ewUp5BouTx6_"
      },
      "execution_count": 12,
      "outputs": []
    },
    {
      "cell_type": "code",
      "source": [
        "als = ALS(userCol=\"userId\",itemCol=\"movieId\",ratingCol=\"rating\",coldStartStrategy=\"drop\", nonnegative = True, implicitPrefs = False,rank=50)"
      ],
      "metadata": {
        "id": "E97AfNdUUAj2"
      },
      "execution_count": 14,
      "outputs": []
    },
    {
      "cell_type": "code",
      "source": [
        "model = als.fit(training)"
      ],
      "metadata": {
        "id": "Aok0xWasUSR-"
      },
      "execution_count": 15,
      "outputs": []
    },
    {
      "cell_type": "code",
      "source": [
        "predictions = model.transform(test)"
      ],
      "metadata": {
        "id": "0DFp5eBIXrh5"
      },
      "execution_count": 16,
      "outputs": []
    },
    {
      "cell_type": "code",
      "source": [
        "predictions.show(n = 10)"
      ],
      "metadata": {
        "colab": {
          "base_uri": "https://localhost:8080/"
        },
        "id": "IEZ7lbv9Xu36",
        "outputId": "52cce042-5cb3-4930-d929-a8c063842ed3"
      },
      "execution_count": 17,
      "outputs": [
        {
          "output_type": "stream",
          "name": "stdout",
          "text": [
            "+------+-------+------+----------+----------+\n",
            "|userId|movieId|rating| timestamp|prediction|\n",
            "+------+-------+------+----------+----------+\n",
            "|   165|     31|   5.0| 846330065| 3.7113938|\n",
            "|   230|     31|   3.0| 862573039|  3.152259|\n",
            "|   597|     31|   2.0|1018202809| 3.1153636|\n",
            "|   613|     31|   4.0|1111475597| 3.2259483|\n",
            "|   631|     31|   3.0| 833454590| 3.5143418|\n",
            "|   858|     31|   3.0| 973575996| 2.4985316|\n",
            "|   992|     31|   4.0| 847061924| 3.0209541|\n",
            "|  1260|     31|   3.0| 833419568|  3.030496|\n",
            "|  1624|     31|   4.0| 831055670|  3.425091|\n",
            "|  1645|     31|   4.0| 848985672| 3.1393178|\n",
            "+------+-------+------+----------+----------+\n",
            "only showing top 10 rows\n",
            "\n"
          ]
        }
      ]
    },
    {
      "cell_type": "code",
      "source": [
        "# Define evaluator as RMSE\n",
        "evaluator = RegressionEvaluator(metricName = \"rmse\", labelCol = \"rating\", predictionCol = \"prediction\")\n",
        "rmse = evaluator.evaluate(predictions)\n",
        "print(\"Root-mean-square error = \" + str(rmse))"
      ],
      "metadata": {
        "colab": {
          "base_uri": "https://localhost:8080/"
        },
        "id": "u0ssl2G9YHKM",
        "outputId": "a736d8d9-9b8e-4180-bed1-a6014866a079"
      },
      "execution_count": 18,
      "outputs": [
        {
          "output_type": "stream",
          "name": "stdout",
          "text": [
            "Root-mean-square error = 0.8112601974550638\n"
          ]
        }
      ]
    },
    {
      "cell_type": "code",
      "source": [
        "import tempfile\n",
        "path = tempfile.mkdtemp()\n",
        "model_path = path + \"/spark_model\"\n",
        "model.write().save(model_path)"
      ],
      "metadata": {
        "id": "QykpUGmOa7E5"
      },
      "execution_count": 19,
      "outputs": []
    },
    {
      "cell_type": "code",
      "source": [
        "model_path"
      ],
      "metadata": {
        "id": "tMxLmbVZ_Cvh",
        "outputId": "ee3645ac-0445-41d0-80a9-02556f3342b2",
        "colab": {
          "base_uri": "https://localhost:8080/",
          "height": 35
        }
      },
      "execution_count": 20,
      "outputs": [
        {
          "output_type": "execute_result",
          "data": {
            "text/plain": [
              "'/tmp/tmp9ygy_a4u/spark_model'"
            ],
            "application/vnd.google.colaboratory.intrinsic+json": {
              "type": "string"
            }
          },
          "metadata": {},
          "execution_count": 20
        }
      ]
    },
    {
      "cell_type": "code",
      "source": [
        "path = F\"/content/drive/MyDrive/spark_model\"\n",
        "model.write().save(path)"
      ],
      "metadata": {
        "id": "y0uONRnD_aay"
      },
      "execution_count": 22,
      "outputs": []
    },
    {
      "cell_type": "code",
      "source": [
        "loaded_model=model.read().load(path)"
      ],
      "metadata": {
        "id": "RFu6T-sYAPRb"
      },
      "execution_count": 30,
      "outputs": []
    },
    {
      "cell_type": "code",
      "source": [
        "pred = loaded_model.transform(test)"
      ],
      "metadata": {
        "id": "Yv-42ZZoAiAR"
      },
      "execution_count": 24,
      "outputs": []
    },
    {
      "cell_type": "code",
      "source": [
        "predictions.show(n = 20)"
      ],
      "metadata": {
        "id": "Q5Vh0J3xAoLt",
        "outputId": "e5141e2d-e888-4d74-a792-279e8e2fd5bf",
        "colab": {
          "base_uri": "https://localhost:8080/"
        }
      },
      "execution_count": 25,
      "outputs": [
        {
          "output_type": "stream",
          "name": "stdout",
          "text": [
            "+------+-------+------+----------+----------+\n",
            "|userId|movieId|rating| timestamp|prediction|\n",
            "+------+-------+------+----------+----------+\n",
            "|   165|     31|   5.0| 846330065| 3.7113938|\n",
            "|   230|     31|   3.0| 862573039|  3.152259|\n",
            "|   597|     31|   2.0|1018202809| 3.1153636|\n",
            "|   613|     31|   4.0|1111475597| 3.2259483|\n",
            "|   631|     31|   3.0| 833454590| 3.5143418|\n",
            "|   858|     31|   3.0| 973575996| 2.4985316|\n",
            "|   992|     31|   4.0| 847061924| 3.0209541|\n",
            "|  1260|     31|   3.0| 833419568|  3.030496|\n",
            "|  1624|     31|   4.0| 831055670|  3.425091|\n",
            "|  1645|     31|   4.0| 848985672| 3.1393178|\n",
            "|  1659|     31|   4.0| 836493978|  3.369099|\n",
            "|  1894|     31|   2.0| 974801944| 2.6661594|\n",
            "|  1946|     31|   3.5|1165650805| 3.5106306|\n",
            "|  2469|     31|   3.0|1081743980| 3.2750523|\n",
            "|  2886|     31|   3.0| 834335076| 3.0280285|\n",
            "|  3517|     31|   4.0|1109532345| 3.0056381|\n",
            "|  3703|     31|   3.0| 847570948| 3.2309895|\n",
            "|  3757|     31|   2.0|1112328270| 2.7186775|\n",
            "|  3970|     31|   4.0|1232065220| 3.5823455|\n",
            "|  4078|     31|   4.0| 837360422| 3.2820475|\n",
            "+------+-------+------+----------+----------+\n",
            "only showing top 20 rows\n",
            "\n"
          ]
        }
      ]
    },
    {
      "cell_type": "code",
      "source": [
        "#Generate top 5 movie recommendation for each user\n",
        "userRecommendation=model.recommendForAllUsers(5)"
      ],
      "metadata": {
        "id": "4a5rKQCWA9-j",
        "outputId": "0faaf448-020f-458d-c464-99a0fb615747",
        "colab": {
          "base_uri": "https://localhost:8080/"
        }
      },
      "execution_count": 26,
      "outputs": [
        {
          "output_type": "stream",
          "name": "stderr",
          "text": [
            "/content/spark-3.2.1-bin-hadoop2.7/python/pyspark/sql/context.py:127: FutureWarning: Deprecated in 3.0.0. Use SparkSession.builder.getOrCreate() instead.\n",
            "  FutureWarning\n"
          ]
        }
      ]
    },
    {
      "cell_type": "code",
      "source": [
        "userRecommendation.select(\"userId\",\"recommendations.movieId\").show(10,False)"
      ],
      "metadata": {
        "id": "h8ym-DRkCDx4",
        "outputId": "130dc975-8ab1-41c3-acd1-33496c3b9292",
        "colab": {
          "base_uri": "https://localhost:8080/"
        }
      },
      "execution_count": 27,
      "outputs": [
        {
          "output_type": "stream",
          "name": "stdout",
          "text": [
            "+------+----------------------------------------+\n",
            "|userId|movieId                                 |\n",
            "+------+----------------------------------------+\n",
            "|1     |[194334, 151989, 192089, 155923, 183947]|\n",
            "|3     |[203086, 194434, 180323, 151989, 203882]|\n",
            "|5     |[203086, 194434, 183947, 151989, 203882]|\n",
            "|6     |[194434, 151989, 203086, 183947, 203882]|\n",
            "|9     |[179985, 203086, 194434, 180323, 166812]|\n",
            "|12    |[194434, 151989, 183947, 203086, 194334]|\n",
            "|13    |[194434, 202231, 203086, 183947, 151989]|\n",
            "|15    |[203086, 183947, 203882, 151989, 194434]|\n",
            "|16    |[203086, 194434, 151989, 183947, 203882]|\n",
            "|17    |[199187, 180323, 175625, 176597, 203086]|\n",
            "+------+----------------------------------------+\n",
            "only showing top 10 rows\n",
            "\n"
          ]
        }
      ]
    },
    {
      "cell_type": "code",
      "source": [
        "specific_user_preds = spark.createDataFrame([(3, 7000),(4, 7000),(7, 7000)], [ \"userId\",\"movieId\"])\n",
        "specific_user_preds.show()\n"
      ],
      "metadata": {
        "id": "Zp27WsV9JCrY",
        "outputId": "fdc6a377-42bc-45eb-972e-01f0949b3314",
        "colab": {
          "base_uri": "https://localhost:8080/"
        }
      },
      "execution_count": 61,
      "outputs": [
        {
          "output_type": "stream",
          "name": "stdout",
          "text": [
            "+------+-------+\n",
            "|userId|movieId|\n",
            "+------+-------+\n",
            "|     3|   7000|\n",
            "|     4|   7000|\n",
            "|     7|   7000|\n",
            "+------+-------+\n",
            "\n"
          ]
        }
      ]
    },
    {
      "cell_type": "code",
      "source": [
        "#prediction some movie for a specific user\n",
        "new_predictions=loaded_model.transform(specific_user_preds)\n",
        "new_predictions.show()"
      ],
      "metadata": {
        "id": "_tS3TNBRDF05",
        "outputId": "ebd78edf-280f-42d1-be05-5140d373900c",
        "colab": {
          "base_uri": "https://localhost:8080/"
        }
      },
      "execution_count": 56,
      "outputs": [
        {
          "output_type": "stream",
          "name": "stdout",
          "text": [
            "+------+-------+----------+\n",
            "|userId|movieId|prediction|\n",
            "+------+-------+----------+\n",
            "|     3|   7000|  3.123271|\n",
            "|     4|   7000| 2.5981631|\n",
            "|     7|   7000| 2.5006652|\n",
            "+------+-------+----------+\n",
            "\n"
          ]
        }
      ]
    }
  ]
}